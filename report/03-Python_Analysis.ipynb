{
 "cells": [
  {
   "cell_type": "markdown",
   "metadata": {
    "toc": true
   },
   "source": [
    "<h1>Table of Contents<span class=\"tocSkip\"></span></h1>\n",
    "<div class=\"toc\"><ul class=\"toc-item\"><li><span><a href=\"#Comapre-Logistic-regression-and-K-Nearest-Neighbors-was-used-to-classify-people-who-drank-alcohol-or-not\" data-toc-modified-id=\"Comapre-Logistic-regression-and-K-Nearest-Neighbors-was-used-to-classify-people-who-drank-alcohol-or-not-1\"><span class=\"toc-item-num\">1&nbsp;&nbsp;</span>Comapre Logistic regression and K-Nearest Neighbors was used to classify people who drank alcohol or not</a></span><ul class=\"toc-item\"><li><span><a href=\"#Introduction\" data-toc-modified-id=\"Introduction-1.1\"><span class=\"toc-item-num\">1.1&nbsp;&nbsp;</span>Introduction</a></span></li><li><span><a href=\"#Data-analysis\" data-toc-modified-id=\"Data-analysis-1.2\"><span class=\"toc-item-num\">1.2&nbsp;&nbsp;</span>Data analysis</a></span><ul class=\"toc-item\"><li><span><a href=\"#Dataset-input\" data-toc-modified-id=\"Dataset-input-1.2.1\"><span class=\"toc-item-num\">1.2.1&nbsp;&nbsp;</span>Dataset input</a></span></li><li><span><a href=\"#EDA-for-dataset\" data-toc-modified-id=\"EDA-for-dataset-1.2.2\"><span class=\"toc-item-num\">1.2.2&nbsp;&nbsp;</span>EDA for dataset</a></span></li><li><span><a href=\"#map-categorical-variables-to-numerical-variables\" data-toc-modified-id=\"map-categorical-variables-to-numerical-variables-1.2.3\"><span class=\"toc-item-num\">1.2.3&nbsp;&nbsp;</span>map categorical variables to numerical variables</a></span></li></ul></li><li><span><a href=\"#logistic-regression-model\" data-toc-modified-id=\"logistic-regression-model-1.3\"><span class=\"toc-item-num\">1.3&nbsp;&nbsp;</span>logistic regression model</a></span><ul class=\"toc-item\"><li><span><a href=\"#Split-the-dataset\" data-toc-modified-id=\"Split-the-dataset-1.3.1\"><span class=\"toc-item-num\">1.3.1&nbsp;&nbsp;</span>Split the dataset</a></span></li><li><span><a href=\"#Use-logistic-model\" data-toc-modified-id=\"Use-logistic-model-1.3.2\"><span class=\"toc-item-num\">1.3.2&nbsp;&nbsp;</span>Use logistic model</a></span></li></ul></li><li><span><a href=\"#KNN-Model\" data-toc-modified-id=\"KNN-Model-1.4\"><span class=\"toc-item-num\">1.4&nbsp;&nbsp;</span>KNN Model</a></span><ul class=\"toc-item\"><li><span><a href=\"#Split-the-dataset\" data-toc-modified-id=\"Split-the-dataset-1.4.1\"><span class=\"toc-item-num\">1.4.1&nbsp;&nbsp;</span>Split the dataset</a></span></li><li><span><a href=\"#Use-KNN-Model\" data-toc-modified-id=\"Use-KNN-Model-1.4.2\"><span class=\"toc-item-num\">1.4.2&nbsp;&nbsp;</span>Use KNN Model</a></span></li></ul></li><li><span><a href=\"#Measure-Model-Accuracy\" data-toc-modified-id=\"Measure-Model-Accuracy-1.5\"><span class=\"toc-item-num\">1.5&nbsp;&nbsp;</span>Measure Model Accuracy</a></span><ul class=\"toc-item\"><li><span><a href=\"#For-Logistic-regression-model\" data-toc-modified-id=\"For-Logistic-regression-model-1.5.1\"><span class=\"toc-item-num\">1.5.1&nbsp;&nbsp;</span>For Logistic regression model</a></span></li><li><span><a href=\"#For-KNN-Model\" data-toc-modified-id=\"For-KNN-Model-1.5.2\"><span class=\"toc-item-num\">1.5.2&nbsp;&nbsp;</span>For KNN Model</a></span></li><li><span><a href=\"#Compare-and-discuss\" data-toc-modified-id=\"Compare-and-discuss-1.5.3\"><span class=\"toc-item-num\">1.5.3&nbsp;&nbsp;</span>Compare and discuss</a></span></li></ul></li><li><span><a href=\"#Improve-model-accuracy\" data-toc-modified-id=\"Improve-model-accuracy-1.6\"><span class=\"toc-item-num\">1.6&nbsp;&nbsp;</span>Improve model accuracy</a></span></li><li><span><a href=\"#Conclusion\" data-toc-modified-id=\"Conclusion-1.7\"><span class=\"toc-item-num\">1.7&nbsp;&nbsp;</span>Conclusion</a></span></li></ul></li></ul></div>"
   ]
  },
  {
   "cell_type": "markdown",
   "metadata": {},
   "source": [
    "# Comapre Logistic regression and K-Nearest Neighbors was used to classify people who drank alcohol or not"
   ]
  },
  {
   "cell_type": "markdown",
   "metadata": {},
   "source": [
    "## Introduction"
   ]
  },
  {
   "cell_type": "markdown",
   "metadata": {},
   "source": [
    "In this project, we explore two popular machine learning algorithms, Logistic Regression and K-Nearest Neighbors (KNN), to predict whether individuals drink or not based on a diverse set of features. The dataset includes a wide range of health and demographic parameters such as sex, age, height, weight, cholesterol levels, and various medical indicators. By leveraging Logistic Regression and KNN, we aim to build predictive models that discern individuals' drinking habits based on these characteristics. Through Exploratory Data Analysis (EDA), model fitting, and accuracy evaluation using the Performance Metrics, we aim to assess the performance and effectiveness of both algorithms in this binary classification task.\n"
   ]
  },
  {
   "cell_type": "markdown",
   "metadata": {},
   "source": [
    "## Data analysis"
   ]
  },
  {
   "cell_type": "markdown",
   "metadata": {},
   "source": [
    "###  Dataset input"
   ]
  },
  {
   "cell_type": "code",
   "execution_count": 2,
   "metadata": {},
   "outputs": [
    {
     "name": "stdout",
     "output_type": "stream",
     "text": [
      "Requirement already satisfied: missingno in c:\\anaconda3\\numpy\\lib\\site-packages (0.5.2)\n",
      "Requirement already satisfied: numpy in c:\\anaconda3\\numpy\\lib\\site-packages (from missingno) (1.19.2)\n",
      "Requirement already satisfied: seaborn in c:\\anaconda3\\numpy\\lib\\site-packages (from missingno) (0.11.0)\n",
      "Requirement already satisfied: matplotlib in c:\\anaconda3\\numpy\\lib\\site-packages (from missingno) (3.3.2)\n",
      "Requirement already satisfied: scipy in c:\\anaconda3\\numpy\\lib\\site-packages (from missingno) (1.5.2)\n",
      "Requirement already satisfied: pandas>=0.23 in c:\\anaconda3\\numpy\\lib\\site-packages (from seaborn->missingno) (1.1.3)\n",
      "Requirement already satisfied: kiwisolver>=1.0.1 in c:\\anaconda3\\numpy\\lib\\site-packages (from matplotlib->missingno) (1.3.0)\n",
      "Requirement already satisfied: cycler>=0.10 in c:\\anaconda3\\numpy\\lib\\site-packages (from matplotlib->missingno) (0.10.0)\n",
      "Requirement already satisfied: python-dateutil>=2.1 in c:\\anaconda3\\numpy\\lib\\site-packages (from matplotlib->missingno) (2.8.1)\n",
      "Requirement already satisfied: pyparsing!=2.0.4,!=2.1.2,!=2.1.6,>=2.0.3 in c:\\anaconda3\\numpy\\lib\\site-packages (from matplotlib->missingno) (2.4.7)\n",
      "Requirement already satisfied: certifi>=2020.06.20 in c:\\anaconda3\\numpy\\lib\\site-packages (from matplotlib->missingno) (2020.6.20)\n",
      "Requirement already satisfied: pillow>=6.2.0 in c:\\anaconda3\\numpy\\lib\\site-packages (from matplotlib->missingno) (8.0.1)\n",
      "Requirement already satisfied: pytz>=2017.2 in c:\\anaconda3\\numpy\\lib\\site-packages (from pandas>=0.23->seaborn->missingno) (2020.1)\n",
      "Requirement already satisfied: six in c:\\anaconda3\\numpy\\lib\\site-packages (from cycler>=0.10->matplotlib->missingno) (1.15.0)\n",
      "Requirement already satisfied: termcolor in c:\\anaconda3\\numpy\\lib\\site-packages (2.3.0)\n"
     ]
    }
   ],
   "source": [
    "# import package \n",
    "import pandas as pd\n",
    "import matplotlib.pyplot as plt\n",
    "import seaborn as sns\n",
    "\n",
    "from sklearn.model_selection import train_test_split\n",
    "from sklearn.preprocessing import OneHotEncoder\n",
    "from sklearn.compose import ColumnTransformer\n",
    "from sklearn.pipeline import Pipeline\n",
    "from sklearn.linear_model import LogisticRegression\n",
    "from sklearn.metrics import accuracy_score\n",
    "\n",
    "# data libraries\n",
    "import numpy as np \n",
    "!pip install missingno\n",
    "!pip install termcolor\n",
    "# visualization libraries\n",
    "import seaborn as sns\n",
    "import matplotlib.pyplot as plt\n",
    "import missingno as msno\n",
    "\n",
    "# ml libraries\n",
    "\n",
    "\n",
    "# warnings\n",
    "from termcolor import colored\n",
    "import warnings\n",
    "warnings.filterwarnings(\"ignore\")\n",
    "pd.set_option('display.max_columns', None)\n",
    "pd.set_option('display.width', 300)\n",
    "pd.set_option('display.max_rows', None)\n",
    "pd.set_option('display.float_format', lambda x: '%.3f' % x)"
   ]
  },
  {
   "cell_type": "markdown",
   "metadata": {},
   "source": [
    "Dataset have 23 labels and data source from [Kaggle](https://www.kaggle.com/datasets/sooyoungher/smoking-drinking-dataset/data) and can see include 240000 rows."
   ]
  },
  {
   "cell_type": "code",
   "execution_count": 3,
   "metadata": {},
   "outputs": [],
   "source": [
    "import os\n",
    "logfile=os.path.join('..', 'data', 'raw', 'smoking_driking_dataset.csv')\n",
    "dataset = pd.read_csv(logfile, sep=\",\")\n"
   ]
  },
  {
   "cell_type": "code",
   "execution_count": 4,
   "metadata": {},
   "outputs": [
    {
     "data": {
      "text/html": [
       "<div>\n",
       "<style scoped>\n",
       "    .dataframe tbody tr th:only-of-type {\n",
       "        vertical-align: middle;\n",
       "    }\n",
       "\n",
       "    .dataframe tbody tr th {\n",
       "        vertical-align: top;\n",
       "    }\n",
       "\n",
       "    .dataframe thead th {\n",
       "        text-align: right;\n",
       "    }\n",
       "</style>\n",
       "<table border=\"1\" class=\"dataframe\">\n",
       "  <thead>\n",
       "    <tr style=\"text-align: right;\">\n",
       "      <th></th>\n",
       "      <th>sex</th>\n",
       "      <th>age</th>\n",
       "      <th>height</th>\n",
       "      <th>weight</th>\n",
       "      <th>waistline</th>\n",
       "      <th>sight_left</th>\n",
       "      <th>sight_right</th>\n",
       "      <th>hear_left</th>\n",
       "      <th>hear_right</th>\n",
       "      <th>SBP</th>\n",
       "      <th>DBP</th>\n",
       "      <th>BLDS</th>\n",
       "      <th>tot_chole</th>\n",
       "      <th>HDL_chole</th>\n",
       "      <th>LDL_chole</th>\n",
       "      <th>triglyceride</th>\n",
       "      <th>hemoglobin</th>\n",
       "      <th>urine_protein</th>\n",
       "      <th>serum_creatinine</th>\n",
       "      <th>SGOT_AST</th>\n",
       "      <th>SGOT_ALT</th>\n",
       "      <th>gamma_GTP</th>\n",
       "      <th>SMK_stat_type_cd</th>\n",
       "      <th>DRK_YN</th>\n",
       "    </tr>\n",
       "  </thead>\n",
       "  <tbody>\n",
       "    <tr>\n",
       "      <th>0</th>\n",
       "      <td>Male</td>\n",
       "      <td>35</td>\n",
       "      <td>170</td>\n",
       "      <td>75</td>\n",
       "      <td>90.000</td>\n",
       "      <td>1.000</td>\n",
       "      <td>1.000</td>\n",
       "      <td>1</td>\n",
       "      <td>1</td>\n",
       "      <td>120</td>\n",
       "      <td>80</td>\n",
       "      <td>99</td>\n",
       "      <td>193</td>\n",
       "      <td>48</td>\n",
       "      <td>126</td>\n",
       "      <td>92</td>\n",
       "      <td>17.100</td>\n",
       "      <td>1</td>\n",
       "      <td>1.000</td>\n",
       "      <td>21</td>\n",
       "      <td>35</td>\n",
       "      <td>40</td>\n",
       "      <td>1</td>\n",
       "      <td>Y</td>\n",
       "    </tr>\n",
       "    <tr>\n",
       "      <th>1</th>\n",
       "      <td>Male</td>\n",
       "      <td>30</td>\n",
       "      <td>180</td>\n",
       "      <td>80</td>\n",
       "      <td>89.000</td>\n",
       "      <td>0.900</td>\n",
       "      <td>1.200</td>\n",
       "      <td>1</td>\n",
       "      <td>1</td>\n",
       "      <td>130</td>\n",
       "      <td>82</td>\n",
       "      <td>106</td>\n",
       "      <td>228</td>\n",
       "      <td>55</td>\n",
       "      <td>148</td>\n",
       "      <td>121</td>\n",
       "      <td>15.800</td>\n",
       "      <td>1</td>\n",
       "      <td>0.900</td>\n",
       "      <td>20</td>\n",
       "      <td>36</td>\n",
       "      <td>27</td>\n",
       "      <td>3</td>\n",
       "      <td>N</td>\n",
       "    </tr>\n",
       "    <tr>\n",
       "      <th>2</th>\n",
       "      <td>Male</td>\n",
       "      <td>40</td>\n",
       "      <td>165</td>\n",
       "      <td>75</td>\n",
       "      <td>91.000</td>\n",
       "      <td>1.200</td>\n",
       "      <td>1.500</td>\n",
       "      <td>1</td>\n",
       "      <td>1</td>\n",
       "      <td>120</td>\n",
       "      <td>70</td>\n",
       "      <td>98</td>\n",
       "      <td>136</td>\n",
       "      <td>41</td>\n",
       "      <td>74</td>\n",
       "      <td>104</td>\n",
       "      <td>15.800</td>\n",
       "      <td>1</td>\n",
       "      <td>0.900</td>\n",
       "      <td>47</td>\n",
       "      <td>32</td>\n",
       "      <td>68</td>\n",
       "      <td>1</td>\n",
       "      <td>N</td>\n",
       "    </tr>\n",
       "    <tr>\n",
       "      <th>3</th>\n",
       "      <td>Male</td>\n",
       "      <td>50</td>\n",
       "      <td>175</td>\n",
       "      <td>80</td>\n",
       "      <td>91.000</td>\n",
       "      <td>1.500</td>\n",
       "      <td>1.200</td>\n",
       "      <td>1</td>\n",
       "      <td>1</td>\n",
       "      <td>145</td>\n",
       "      <td>87</td>\n",
       "      <td>95</td>\n",
       "      <td>201</td>\n",
       "      <td>76</td>\n",
       "      <td>104</td>\n",
       "      <td>106</td>\n",
       "      <td>17.600</td>\n",
       "      <td>1</td>\n",
       "      <td>1.100</td>\n",
       "      <td>29</td>\n",
       "      <td>34</td>\n",
       "      <td>18</td>\n",
       "      <td>1</td>\n",
       "      <td>N</td>\n",
       "    </tr>\n",
       "    <tr>\n",
       "      <th>4</th>\n",
       "      <td>Male</td>\n",
       "      <td>50</td>\n",
       "      <td>165</td>\n",
       "      <td>60</td>\n",
       "      <td>80.000</td>\n",
       "      <td>1.000</td>\n",
       "      <td>1.200</td>\n",
       "      <td>1</td>\n",
       "      <td>1</td>\n",
       "      <td>138</td>\n",
       "      <td>82</td>\n",
       "      <td>101</td>\n",
       "      <td>199</td>\n",
       "      <td>61</td>\n",
       "      <td>117</td>\n",
       "      <td>104</td>\n",
       "      <td>13.800</td>\n",
       "      <td>1</td>\n",
       "      <td>0.800</td>\n",
       "      <td>19</td>\n",
       "      <td>12</td>\n",
       "      <td>25</td>\n",
       "      <td>1</td>\n",
       "      <td>N</td>\n",
       "    </tr>\n",
       "  </tbody>\n",
       "</table>\n",
       "</div>"
      ],
      "text/plain": [
       "    sex  age  height  weight  waistline  sight_left  sight_right  hear_left  hear_right  SBP  DBP  BLDS  tot_chole  HDL_chole  LDL_chole  triglyceride  hemoglobin  urine_protein  serum_creatinine  SGOT_AST  SGOT_ALT  gamma_GTP  SMK_stat_type_cd DRK_YN\n",
       "0  Male   35     170      75     90.000       1.000        1.000          1           1  120   80    99        193         48        126            92      17.100              1             1.000        21        35         40                 1      Y\n",
       "1  Male   30     180      80     89.000       0.900        1.200          1           1  130   82   106        228         55        148           121      15.800              1             0.900        20        36         27                 3      N\n",
       "2  Male   40     165      75     91.000       1.200        1.500          1           1  120   70    98        136         41         74           104      15.800              1             0.900        47        32         68                 1      N\n",
       "3  Male   50     175      80     91.000       1.500        1.200          1           1  145   87    95        201         76        104           106      17.600              1             1.100        29        34         18                 1      N\n",
       "4  Male   50     165      60     80.000       1.000        1.200          1           1  138   82   101        199         61        117           104      13.800              1             0.800        19        12         25                 1      N"
      ]
     },
     "execution_count": 4,
     "metadata": {},
     "output_type": "execute_result"
    }
   ],
   "source": [
    "dataset.head()"
   ]
  },
  {
   "cell_type": "markdown",
   "metadata": {},
   "source": [
    "Determine dataset each column meaning: "
   ]
  },
  {
   "cell_type": "markdown",
   "metadata": {},
   "source": [
    "Sex ：   male, female  \n",
    "age ：            round up to 5 years  \n",
    "height ：        round up to 5 cm[cm]  \n",
    "weight ：       [kg]  \n",
    "sight_left ：      eyesight(left)  \n",
    "sight_right ：     eyesight(right)  \n",
    "hear_left ：      hearing left, 1(normal), 2(abnormal)  \n",
    "hear_right ：      hearing right, 1(normal), 2(abnormal)  \n",
    "SBP ：     Systolic blood pressure[mmHg]  \n",
    "DBP ：          Diastolic blood pressure[mmHg]  \n",
    "BLDS ：          BLDS or FSG(fasting blood glucose)[mg/dL]  \n",
    "tot_chole ：      total cholesterol[mg/dL]  \n",
    "HDL_chole ：      HDL cholesterol[mg/dL]\tHDL  \n",
    "LDL_chole ：      LDL cholesterol[mg/dL]\tLDL  \n",
    "triglyceride ：     triglyceride[mg/dL]  \n",
    "hemoglobin ：       hemoglobin[g/dL]  \n",
    "urine_protein：     protein in urine, 1(-), 2(+/-), 3(+1), 4(+2), 5(+3), 6(+4)  \n",
    "serum_creatinine ：   serum(blood) creatinine[mg/dL]  \n",
    "SGOT_AST ：       SGOT(Glutamate-oxaloacetate transaminase) AST(Aspartate transaminase)[IU/L]T  \n",
    "SGOT_ALT ：       ALT(Alanine transaminase)[IU/L]  \n",
    "gamma_GTP ：       y-glutamyl transpeptidase[IU/L]  \n",
    "SMK_stat_type_cd ：    Smoking state, 1(never), 2(used to smoke but quit), 3(still smoke)  \n",
    "DRK_YN ：          Drinker or Not"
   ]
  },
  {
   "cell_type": "markdown",
   "metadata": {},
   "source": [
    "### EDA for dataset"
   ]
  },
  {
   "cell_type": "markdown",
   "metadata": {},
   "source": [
    "Use EDA to analysis data first."
   ]
  },
  {
   "cell_type": "code",
   "execution_count": 5,
   "metadata": {},
   "outputs": [
    {
     "data": {
      "text/plain": [
       "(240000, 24)"
      ]
     },
     "execution_count": 5,
     "metadata": {},
     "output_type": "execute_result"
    }
   ],
   "source": [
    "dataset.shape"
   ]
  },
  {
   "cell_type": "code",
   "execution_count": 6,
   "metadata": {},
   "outputs": [
    {
     "data": {
      "text/html": [
       "<div>\n",
       "<style scoped>\n",
       "    .dataframe tbody tr th:only-of-type {\n",
       "        vertical-align: middle;\n",
       "    }\n",
       "\n",
       "    .dataframe tbody tr th {\n",
       "        vertical-align: top;\n",
       "    }\n",
       "\n",
       "    .dataframe thead th {\n",
       "        text-align: right;\n",
       "    }\n",
       "</style>\n",
       "<table border=\"1\" class=\"dataframe\">\n",
       "  <thead>\n",
       "    <tr style=\"text-align: right;\">\n",
       "      <th></th>\n",
       "      <th>count</th>\n",
       "      <th>mean</th>\n",
       "      <th>std</th>\n",
       "      <th>min</th>\n",
       "      <th>25%</th>\n",
       "      <th>50%</th>\n",
       "      <th>75%</th>\n",
       "      <th>max</th>\n",
       "    </tr>\n",
       "  </thead>\n",
       "  <tbody>\n",
       "    <tr>\n",
       "      <th>age</th>\n",
       "      <td>240000.000</td>\n",
       "      <td>47.648</td>\n",
       "      <td>14.181</td>\n",
       "      <td>20.000</td>\n",
       "      <td>35.000</td>\n",
       "      <td>45.000</td>\n",
       "      <td>60.000</td>\n",
       "      <td>85.000</td>\n",
       "    </tr>\n",
       "    <tr>\n",
       "      <th>height</th>\n",
       "      <td>240000.000</td>\n",
       "      <td>162.262</td>\n",
       "      <td>9.283</td>\n",
       "      <td>130.000</td>\n",
       "      <td>155.000</td>\n",
       "      <td>160.000</td>\n",
       "      <td>170.000</td>\n",
       "      <td>190.000</td>\n",
       "    </tr>\n",
       "    <tr>\n",
       "      <th>weight</th>\n",
       "      <td>240000.000</td>\n",
       "      <td>63.318</td>\n",
       "      <td>12.541</td>\n",
       "      <td>25.000</td>\n",
       "      <td>55.000</td>\n",
       "      <td>60.000</td>\n",
       "      <td>70.000</td>\n",
       "      <td>140.000</td>\n",
       "    </tr>\n",
       "    <tr>\n",
       "      <th>waistline</th>\n",
       "      <td>240000.000</td>\n",
       "      <td>81.288</td>\n",
       "      <td>12.190</td>\n",
       "      <td>27.000</td>\n",
       "      <td>74.200</td>\n",
       "      <td>81.000</td>\n",
       "      <td>88.000</td>\n",
       "      <td>999.000</td>\n",
       "    </tr>\n",
       "    <tr>\n",
       "      <th>sight_left</th>\n",
       "      <td>240000.000</td>\n",
       "      <td>0.982</td>\n",
       "      <td>0.609</td>\n",
       "      <td>0.100</td>\n",
       "      <td>0.700</td>\n",
       "      <td>1.000</td>\n",
       "      <td>1.200</td>\n",
       "      <td>9.900</td>\n",
       "    </tr>\n",
       "    <tr>\n",
       "      <th>sight_right</th>\n",
       "      <td>240000.000</td>\n",
       "      <td>0.980</td>\n",
       "      <td>0.610</td>\n",
       "      <td>0.100</td>\n",
       "      <td>0.700</td>\n",
       "      <td>1.000</td>\n",
       "      <td>1.200</td>\n",
       "      <td>9.900</td>\n",
       "    </tr>\n",
       "    <tr>\n",
       "      <th>hear_left</th>\n",
       "      <td>240000.000</td>\n",
       "      <td>1.031</td>\n",
       "      <td>0.174</td>\n",
       "      <td>1.000</td>\n",
       "      <td>1.000</td>\n",
       "      <td>1.000</td>\n",
       "      <td>1.000</td>\n",
       "      <td>2.000</td>\n",
       "    </tr>\n",
       "    <tr>\n",
       "      <th>hear_right</th>\n",
       "      <td>240000.000</td>\n",
       "      <td>1.030</td>\n",
       "      <td>0.171</td>\n",
       "      <td>1.000</td>\n",
       "      <td>1.000</td>\n",
       "      <td>1.000</td>\n",
       "      <td>1.000</td>\n",
       "      <td>2.000</td>\n",
       "    </tr>\n",
       "    <tr>\n",
       "      <th>SBP</th>\n",
       "      <td>240000.000</td>\n",
       "      <td>122.434</td>\n",
       "      <td>14.522</td>\n",
       "      <td>72.000</td>\n",
       "      <td>112.000</td>\n",
       "      <td>120.000</td>\n",
       "      <td>131.000</td>\n",
       "      <td>241.000</td>\n",
       "    </tr>\n",
       "    <tr>\n",
       "      <th>DBP</th>\n",
       "      <td>240000.000</td>\n",
       "      <td>76.058</td>\n",
       "      <td>9.886</td>\n",
       "      <td>36.000</td>\n",
       "      <td>70.000</td>\n",
       "      <td>76.000</td>\n",
       "      <td>82.000</td>\n",
       "      <td>185.000</td>\n",
       "    </tr>\n",
       "    <tr>\n",
       "      <th>BLDS</th>\n",
       "      <td>240000.000</td>\n",
       "      <td>100.501</td>\n",
       "      <td>24.282</td>\n",
       "      <td>38.000</td>\n",
       "      <td>88.000</td>\n",
       "      <td>96.000</td>\n",
       "      <td>105.000</td>\n",
       "      <td>769.000</td>\n",
       "    </tr>\n",
       "    <tr>\n",
       "      <th>tot_chole</th>\n",
       "      <td>240000.000</td>\n",
       "      <td>195.632</td>\n",
       "      <td>38.420</td>\n",
       "      <td>54.000</td>\n",
       "      <td>169.000</td>\n",
       "      <td>193.000</td>\n",
       "      <td>219.000</td>\n",
       "      <td>1619.000</td>\n",
       "    </tr>\n",
       "    <tr>\n",
       "      <th>HDL_chole</th>\n",
       "      <td>240000.000</td>\n",
       "      <td>56.972</td>\n",
       "      <td>22.333</td>\n",
       "      <td>1.000</td>\n",
       "      <td>46.000</td>\n",
       "      <td>55.000</td>\n",
       "      <td>66.000</td>\n",
       "      <td>8110.000</td>\n",
       "    </tr>\n",
       "    <tr>\n",
       "      <th>LDL_chole</th>\n",
       "      <td>240000.000</td>\n",
       "      <td>113.091</td>\n",
       "      <td>36.872</td>\n",
       "      <td>1.000</td>\n",
       "      <td>89.000</td>\n",
       "      <td>111.000</td>\n",
       "      <td>135.000</td>\n",
       "      <td>5119.000</td>\n",
       "    </tr>\n",
       "    <tr>\n",
       "      <th>triglyceride</th>\n",
       "      <td>240000.000</td>\n",
       "      <td>132.390</td>\n",
       "      <td>104.319</td>\n",
       "      <td>1.000</td>\n",
       "      <td>73.000</td>\n",
       "      <td>106.000</td>\n",
       "      <td>159.000</td>\n",
       "      <td>9490.000</td>\n",
       "    </tr>\n",
       "    <tr>\n",
       "      <th>hemoglobin</th>\n",
       "      <td>240000.000</td>\n",
       "      <td>14.231</td>\n",
       "      <td>1.581</td>\n",
       "      <td>1.000</td>\n",
       "      <td>13.200</td>\n",
       "      <td>14.300</td>\n",
       "      <td>15.400</td>\n",
       "      <td>24.200</td>\n",
       "    </tr>\n",
       "    <tr>\n",
       "      <th>urine_protein</th>\n",
       "      <td>240000.000</td>\n",
       "      <td>1.095</td>\n",
       "      <td>0.437</td>\n",
       "      <td>1.000</td>\n",
       "      <td>1.000</td>\n",
       "      <td>1.000</td>\n",
       "      <td>1.000</td>\n",
       "      <td>6.000</td>\n",
       "    </tr>\n",
       "    <tr>\n",
       "      <th>serum_creatinine</th>\n",
       "      <td>240000.000</td>\n",
       "      <td>0.860</td>\n",
       "      <td>0.458</td>\n",
       "      <td>0.100</td>\n",
       "      <td>0.700</td>\n",
       "      <td>0.800</td>\n",
       "      <td>1.000</td>\n",
       "      <td>94.000</td>\n",
       "    </tr>\n",
       "    <tr>\n",
       "      <th>SGOT_AST</th>\n",
       "      <td>240000.000</td>\n",
       "      <td>25.966</td>\n",
       "      <td>17.625</td>\n",
       "      <td>1.000</td>\n",
       "      <td>19.000</td>\n",
       "      <td>23.000</td>\n",
       "      <td>28.000</td>\n",
       "      <td>1911.000</td>\n",
       "    </tr>\n",
       "    <tr>\n",
       "      <th>SGOT_ALT</th>\n",
       "      <td>240000.000</td>\n",
       "      <td>25.739</td>\n",
       "      <td>23.082</td>\n",
       "      <td>1.000</td>\n",
       "      <td>15.000</td>\n",
       "      <td>20.000</td>\n",
       "      <td>30.000</td>\n",
       "      <td>2309.000</td>\n",
       "    </tr>\n",
       "    <tr>\n",
       "      <th>gamma_GTP</th>\n",
       "      <td>240000.000</td>\n",
       "      <td>37.148</td>\n",
       "      <td>50.154</td>\n",
       "      <td>1.000</td>\n",
       "      <td>16.000</td>\n",
       "      <td>23.000</td>\n",
       "      <td>40.000</td>\n",
       "      <td>999.000</td>\n",
       "    </tr>\n",
       "    <tr>\n",
       "      <th>SMK_stat_type_cd</th>\n",
       "      <td>240000.000</td>\n",
       "      <td>1.609</td>\n",
       "      <td>0.819</td>\n",
       "      <td>1.000</td>\n",
       "      <td>1.000</td>\n",
       "      <td>1.000</td>\n",
       "      <td>2.000</td>\n",
       "      <td>3.000</td>\n",
       "    </tr>\n",
       "  </tbody>\n",
       "</table>\n",
       "</div>"
      ],
      "text/plain": [
       "                      count    mean     std     min     25%     50%     75%      max\n",
       "age              240000.000  47.648  14.181  20.000  35.000  45.000  60.000   85.000\n",
       "height           240000.000 162.262   9.283 130.000 155.000 160.000 170.000  190.000\n",
       "weight           240000.000  63.318  12.541  25.000  55.000  60.000  70.000  140.000\n",
       "waistline        240000.000  81.288  12.190  27.000  74.200  81.000  88.000  999.000\n",
       "sight_left       240000.000   0.982   0.609   0.100   0.700   1.000   1.200    9.900\n",
       "sight_right      240000.000   0.980   0.610   0.100   0.700   1.000   1.200    9.900\n",
       "hear_left        240000.000   1.031   0.174   1.000   1.000   1.000   1.000    2.000\n",
       "hear_right       240000.000   1.030   0.171   1.000   1.000   1.000   1.000    2.000\n",
       "SBP              240000.000 122.434  14.522  72.000 112.000 120.000 131.000  241.000\n",
       "DBP              240000.000  76.058   9.886  36.000  70.000  76.000  82.000  185.000\n",
       "BLDS             240000.000 100.501  24.282  38.000  88.000  96.000 105.000  769.000\n",
       "tot_chole        240000.000 195.632  38.420  54.000 169.000 193.000 219.000 1619.000\n",
       "HDL_chole        240000.000  56.972  22.333   1.000  46.000  55.000  66.000 8110.000\n",
       "LDL_chole        240000.000 113.091  36.872   1.000  89.000 111.000 135.000 5119.000\n",
       "triglyceride     240000.000 132.390 104.319   1.000  73.000 106.000 159.000 9490.000\n",
       "hemoglobin       240000.000  14.231   1.581   1.000  13.200  14.300  15.400   24.200\n",
       "urine_protein    240000.000   1.095   0.437   1.000   1.000   1.000   1.000    6.000\n",
       "serum_creatinine 240000.000   0.860   0.458   0.100   0.700   0.800   1.000   94.000\n",
       "SGOT_AST         240000.000  25.966  17.625   1.000  19.000  23.000  28.000 1911.000\n",
       "SGOT_ALT         240000.000  25.739  23.082   1.000  15.000  20.000  30.000 2309.000\n",
       "gamma_GTP        240000.000  37.148  50.154   1.000  16.000  23.000  40.000  999.000\n",
       "SMK_stat_type_cd 240000.000   1.609   0.819   1.000   1.000   1.000   2.000    3.000"
      ]
     },
     "execution_count": 6,
     "metadata": {},
     "output_type": "execute_result"
    }
   ],
   "source": [
    "# Summary statistics of numerical columns\n",
    "dataset.describe().T"
   ]
  },
  {
   "cell_type": "code",
   "execution_count": 7,
   "metadata": {
    "scrolled": true
   },
   "outputs": [
    {
     "name": "stdout",
     "output_type": "stream",
     "text": [
      "<class 'pandas.core.frame.DataFrame'>\n",
      "RangeIndex: 240000 entries, 0 to 239999\n",
      "Data columns (total 24 columns):\n",
      " #   Column            Non-Null Count   Dtype  \n",
      "---  ------            --------------   -----  \n",
      " 0   sex               240000 non-null  object \n",
      " 1   age               240000 non-null  int64  \n",
      " 2   height            240000 non-null  int64  \n",
      " 3   weight            240000 non-null  int64  \n",
      " 4   waistline         240000 non-null  float64\n",
      " 5   sight_left        240000 non-null  float64\n",
      " 6   sight_right       240000 non-null  float64\n",
      " 7   hear_left         240000 non-null  int64  \n",
      " 8   hear_right        240000 non-null  int64  \n",
      " 9   SBP               240000 non-null  int64  \n",
      " 10  DBP               240000 non-null  int64  \n",
      " 11  BLDS              240000 non-null  int64  \n",
      " 12  tot_chole         240000 non-null  int64  \n",
      " 13  HDL_chole         240000 non-null  int64  \n",
      " 14  LDL_chole         240000 non-null  int64  \n",
      " 15  triglyceride      240000 non-null  int64  \n",
      " 16  hemoglobin        240000 non-null  float64\n",
      " 17  urine_protein     240000 non-null  int64  \n",
      " 18  serum_creatinine  240000 non-null  float64\n",
      " 19  SGOT_AST          240000 non-null  int64  \n",
      " 20  SGOT_ALT          240000 non-null  int64  \n",
      " 21  gamma_GTP         240000 non-null  int64  \n",
      " 22  SMK_stat_type_cd  240000 non-null  int64  \n",
      " 23  DRK_YN            240000 non-null  object \n",
      "dtypes: float64(5), int64(17), object(2)\n",
      "memory usage: 43.9+ MB\n"
     ]
    }
   ],
   "source": [
    "# including data types and null values\n",
    "dataset.info()"
   ]
  },
  {
   "cell_type": "markdown",
   "metadata": {},
   "source": [
    "According to data columns (labels), we can see that these data represent human health information, such as height and weight, blood pressure, blood protein content, etc., including 21 columns of numerical values and 2 columns of object values. The dataset includes three categorical labels, including gender, smoking, and drinking."
   ]
  },
  {
   "cell_type": "code",
   "execution_count": 8,
   "metadata": {},
   "outputs": [
    {
     "name": "stdout",
     "output_type": "stream",
     "text": [
      "----- Shape -----\n",
      "(240000, 24)\n",
      "\n",
      "----- Types -----\n",
      "sex                  object\n",
      "age                   int64\n",
      "height                int64\n",
      "weight                int64\n",
      "waistline           float64\n",
      "sight_left          float64\n",
      "sight_right         float64\n",
      "hear_left             int64\n",
      "hear_right            int64\n",
      "SBP                   int64\n",
      "DBP                   int64\n",
      "BLDS                  int64\n",
      "tot_chole             int64\n",
      "HDL_chole             int64\n",
      "LDL_chole             int64\n",
      "triglyceride          int64\n",
      "hemoglobin          float64\n",
      "urine_protein         int64\n",
      "serum_creatinine    float64\n",
      "SGOT_AST              int64\n",
      "SGOT_ALT              int64\n",
      "gamma_GTP             int64\n",
      "SMK_stat_type_cd      int64\n",
      "DRK_YN               object\n",
      "dtype: object\n",
      "\n",
      "----- Missing values (NA) -----\n",
      "sex                 0\n",
      "age                 0\n",
      "height              0\n",
      "weight              0\n",
      "waistline           0\n",
      "sight_left          0\n",
      "sight_right         0\n",
      "hear_left           0\n",
      "hear_right          0\n",
      "SBP                 0\n",
      "DBP                 0\n",
      "BLDS                0\n",
      "tot_chole           0\n",
      "HDL_chole           0\n",
      "LDL_chole           0\n",
      "triglyceride        0\n",
      "hemoglobin          0\n",
      "urine_protein       0\n",
      "serum_creatinine    0\n",
      "SGOT_AST            0\n",
      "SGOT_ALT            0\n",
      "gamma_GTP           0\n",
      "SMK_stat_type_cd    0\n",
      "DRK_YN              0\n",
      "dtype: int64\n",
      "\n",
      "----- Quantiles -----\n"
     ]
    },
    {
     "data": {
      "text/html": [
       "<div>\n",
       "<style scoped>\n",
       "    .dataframe tbody tr th:only-of-type {\n",
       "        vertical-align: middle;\n",
       "    }\n",
       "\n",
       "    .dataframe tbody tr th {\n",
       "        vertical-align: top;\n",
       "    }\n",
       "\n",
       "    .dataframe thead th {\n",
       "        text-align: right;\n",
       "    }\n",
       "</style>\n",
       "<table border=\"1\" class=\"dataframe\">\n",
       "  <thead>\n",
       "    <tr style=\"text-align: right;\">\n",
       "      <th></th>\n",
       "      <th>age</th>\n",
       "      <th>height</th>\n",
       "      <th>weight</th>\n",
       "      <th>waistline</th>\n",
       "      <th>sight_left</th>\n",
       "      <th>sight_right</th>\n",
       "      <th>hear_left</th>\n",
       "      <th>hear_right</th>\n",
       "      <th>SBP</th>\n",
       "      <th>DBP</th>\n",
       "      <th>BLDS</th>\n",
       "      <th>tot_chole</th>\n",
       "      <th>HDL_chole</th>\n",
       "      <th>LDL_chole</th>\n",
       "      <th>triglyceride</th>\n",
       "      <th>hemoglobin</th>\n",
       "      <th>urine_protein</th>\n",
       "      <th>serum_creatinine</th>\n",
       "      <th>SGOT_AST</th>\n",
       "      <th>SGOT_ALT</th>\n",
       "      <th>gamma_GTP</th>\n",
       "      <th>SMK_stat_type_cd</th>\n",
       "    </tr>\n",
       "  </thead>\n",
       "  <tbody>\n",
       "    <tr>\n",
       "      <th>0.000</th>\n",
       "      <td>20.000</td>\n",
       "      <td>130.000</td>\n",
       "      <td>25.000</td>\n",
       "      <td>27.000</td>\n",
       "      <td>0.100</td>\n",
       "      <td>0.100</td>\n",
       "      <td>1.000</td>\n",
       "      <td>1.000</td>\n",
       "      <td>72.000</td>\n",
       "      <td>36.000</td>\n",
       "      <td>38.000</td>\n",
       "      <td>54.000</td>\n",
       "      <td>1.000</td>\n",
       "      <td>1.000</td>\n",
       "      <td>1.000</td>\n",
       "      <td>1.000</td>\n",
       "      <td>1.000</td>\n",
       "      <td>0.100</td>\n",
       "      <td>1.000</td>\n",
       "      <td>1.000</td>\n",
       "      <td>1.000</td>\n",
       "      <td>1.000</td>\n",
       "    </tr>\n",
       "    <tr>\n",
       "      <th>0.050</th>\n",
       "      <td>25.000</td>\n",
       "      <td>150.000</td>\n",
       "      <td>45.000</td>\n",
       "      <td>66.000</td>\n",
       "      <td>0.400</td>\n",
       "      <td>0.400</td>\n",
       "      <td>1.000</td>\n",
       "      <td>1.000</td>\n",
       "      <td>100.000</td>\n",
       "      <td>60.000</td>\n",
       "      <td>79.000</td>\n",
       "      <td>137.000</td>\n",
       "      <td>36.000</td>\n",
       "      <td>60.000</td>\n",
       "      <td>46.000</td>\n",
       "      <td>11.700</td>\n",
       "      <td>1.000</td>\n",
       "      <td>0.600</td>\n",
       "      <td>15.000</td>\n",
       "      <td>10.000</td>\n",
       "      <td>10.000</td>\n",
       "      <td>1.000</td>\n",
       "    </tr>\n",
       "    <tr>\n",
       "      <th>0.500</th>\n",
       "      <td>45.000</td>\n",
       "      <td>160.000</td>\n",
       "      <td>60.000</td>\n",
       "      <td>81.000</td>\n",
       "      <td>1.000</td>\n",
       "      <td>1.000</td>\n",
       "      <td>1.000</td>\n",
       "      <td>1.000</td>\n",
       "      <td>120.000</td>\n",
       "      <td>76.000</td>\n",
       "      <td>96.000</td>\n",
       "      <td>193.000</td>\n",
       "      <td>55.000</td>\n",
       "      <td>111.000</td>\n",
       "      <td>106.000</td>\n",
       "      <td>14.300</td>\n",
       "      <td>1.000</td>\n",
       "      <td>0.800</td>\n",
       "      <td>23.000</td>\n",
       "      <td>20.000</td>\n",
       "      <td>23.000</td>\n",
       "      <td>1.000</td>\n",
       "    </tr>\n",
       "    <tr>\n",
       "      <th>0.950</th>\n",
       "      <td>70.000</td>\n",
       "      <td>175.000</td>\n",
       "      <td>85.000</td>\n",
       "      <td>97.000</td>\n",
       "      <td>1.500</td>\n",
       "      <td>1.500</td>\n",
       "      <td>1.000</td>\n",
       "      <td>1.000</td>\n",
       "      <td>148.000</td>\n",
       "      <td>92.000</td>\n",
       "      <td>137.000</td>\n",
       "      <td>261.000</td>\n",
       "      <td>84.000</td>\n",
       "      <td>173.000</td>\n",
       "      <td>299.000</td>\n",
       "      <td>16.600</td>\n",
       "      <td>2.000</td>\n",
       "      <td>1.200</td>\n",
       "      <td>46.000</td>\n",
       "      <td>59.000</td>\n",
       "      <td>106.000</td>\n",
       "      <td>3.000</td>\n",
       "    </tr>\n",
       "    <tr>\n",
       "      <th>0.990</th>\n",
       "      <td>80.000</td>\n",
       "      <td>180.000</td>\n",
       "      <td>95.000</td>\n",
       "      <td>105.000</td>\n",
       "      <td>2.000</td>\n",
       "      <td>2.000</td>\n",
       "      <td>2.000</td>\n",
       "      <td>2.000</td>\n",
       "      <td>161.000</td>\n",
       "      <td>101.000</td>\n",
       "      <td>205.000</td>\n",
       "      <td>296.000</td>\n",
       "      <td>99.000</td>\n",
       "      <td>204.000</td>\n",
       "      <td>501.000</td>\n",
       "      <td>17.500</td>\n",
       "      <td>3.000</td>\n",
       "      <td>1.400</td>\n",
       "      <td>80.000</td>\n",
       "      <td>107.000</td>\n",
       "      <td>230.000</td>\n",
       "      <td>3.000</td>\n",
       "    </tr>\n",
       "    <tr>\n",
       "      <th>1.000</th>\n",
       "      <td>85.000</td>\n",
       "      <td>190.000</td>\n",
       "      <td>140.000</td>\n",
       "      <td>999.000</td>\n",
       "      <td>9.900</td>\n",
       "      <td>9.900</td>\n",
       "      <td>2.000</td>\n",
       "      <td>2.000</td>\n",
       "      <td>241.000</td>\n",
       "      <td>185.000</td>\n",
       "      <td>769.000</td>\n",
       "      <td>1619.000</td>\n",
       "      <td>8110.000</td>\n",
       "      <td>5119.000</td>\n",
       "      <td>9490.000</td>\n",
       "      <td>24.200</td>\n",
       "      <td>6.000</td>\n",
       "      <td>94.000</td>\n",
       "      <td>1911.000</td>\n",
       "      <td>2309.000</td>\n",
       "      <td>999.000</td>\n",
       "      <td>3.000</td>\n",
       "    </tr>\n",
       "  </tbody>\n",
       "</table>\n",
       "</div>"
      ],
      "text/plain": [
       "         age  height  weight  waistline  sight_left  sight_right  hear_left  hear_right     SBP     DBP    BLDS  tot_chole  HDL_chole  LDL_chole  triglyceride  hemoglobin  urine_protein  serum_creatinine  SGOT_AST  SGOT_ALT  gamma_GTP  SMK_stat_type_cd\n",
       "0.000 20.000 130.000  25.000     27.000       0.100        0.100      1.000       1.000  72.000  36.000  38.000     54.000      1.000      1.000         1.000       1.000          1.000             0.100     1.000     1.000      1.000             1.000\n",
       "0.050 25.000 150.000  45.000     66.000       0.400        0.400      1.000       1.000 100.000  60.000  79.000    137.000     36.000     60.000        46.000      11.700          1.000             0.600    15.000    10.000     10.000             1.000\n",
       "0.500 45.000 160.000  60.000     81.000       1.000        1.000      1.000       1.000 120.000  76.000  96.000    193.000     55.000    111.000       106.000      14.300          1.000             0.800    23.000    20.000     23.000             1.000\n",
       "0.950 70.000 175.000  85.000     97.000       1.500        1.500      1.000       1.000 148.000  92.000 137.000    261.000     84.000    173.000       299.000      16.600          2.000             1.200    46.000    59.000    106.000             3.000\n",
       "0.990 80.000 180.000  95.000    105.000       2.000        2.000      2.000       2.000 161.000 101.000 205.000    296.000     99.000    204.000       501.000      17.500          3.000             1.400    80.000   107.000    230.000             3.000\n",
       "1.000 85.000 190.000 140.000    999.000       9.900        9.900      2.000       2.000 241.000 185.000 769.000   1619.000   8110.000   5119.000      9490.000      24.200          6.000            94.000  1911.000  2309.000    999.000             3.000"
      ]
     },
     "metadata": {},
     "output_type": "display_data"
    }
   ],
   "source": [
    "# Check dataset for data type, size, and missing values\n",
    "\n",
    "dataset.shape\n",
    "print(\"----- Shape -----\")\n",
    "print(dataset.shape)\n",
    "print(\"\\n----- Types -----\")\n",
    "print(dataset.dtypes)\n",
    "print(\"\\n----- Missing values (NA) -----\")\n",
    "print(dataset.isnull().sum())\n",
    "print(\"\\n----- Quantiles -----\")\n",
    "display(dataset.quantile([0, 0.05, 0.50, 0.95, 0.99, 1]))\n"
   ]
  },
  {
   "cell_type": "markdown",
   "metadata": {},
   "source": [
    "We can see dataset not include null value. The data set is complete."
   ]
  },
  {
   "cell_type": "code",
   "execution_count": 9,
   "metadata": {},
   "outputs": [
    {
     "data": {
      "text/plain": [
       "age                 45.000\n",
       "height             160.000\n",
       "weight              60.000\n",
       "waistline           81.000\n",
       "sight_left           1.000\n",
       "sight_right          1.000\n",
       "hear_left            1.000\n",
       "hear_right           1.000\n",
       "SBP                120.000\n",
       "DBP                 76.000\n",
       "BLDS                96.000\n",
       "tot_chole          193.000\n",
       "HDL_chole           55.000\n",
       "LDL_chole          111.000\n",
       "triglyceride       106.000\n",
       "hemoglobin          14.300\n",
       "urine_protein        1.000\n",
       "serum_creatinine     0.800\n",
       "SGOT_AST            23.000\n",
       "SGOT_ALT            20.000\n",
       "gamma_GTP           23.000\n",
       "SMK_stat_type_cd     1.000\n",
       "Name: 0.5, dtype: float64"
      ]
     },
     "execution_count": 9,
     "metadata": {},
     "output_type": "execute_result"
    }
   ],
   "source": [
    "dataset.quantile() "
   ]
  },
  {
   "cell_type": "code",
   "execution_count": 10,
   "metadata": {},
   "outputs": [
    {
     "name": "stdout",
     "output_type": "stream",
     "text": [
      "Observations: 240000\n",
      "Variables: 24\n",
      "cat_cols: 6\n",
      "num_cols: 18\n",
      "cat_but_car: 0\n",
      "num_but_cat: 4\n",
      "\n",
      "Numerical Columns: ['age', 'height', 'weight', 'waistline', 'sight_left', 'sight_right', 'SBP', 'DBP', 'BLDS', 'tot_chole', 'HDL_chole', 'LDL_chole', 'triglyceride', 'hemoglobin', 'serum_creatinine', 'SGOT_AST', 'SGOT_ALT', 'gamma_GTP']\n",
      "\n",
      "\n",
      "Categorical Columns: ['sex', 'DRK_YN', 'hear_left', 'hear_right', 'urine_protein', 'SMK_stat_type_cd']\n",
      "\n",
      "\n",
      "Cardinal Columns:[]\n",
      "\n"
     ]
    }
   ],
   "source": [
    "def grab_col_names(dataframe, cat_th=10, car_th=20):\n",
    "   \n",
    "    cat_cols = [col for col in dataframe.columns if dataframe[col].dtypes == \"O\"]\n",
    "    num_but_cat = [col for col in dataframe.columns if dataframe[col].nunique() < cat_th and dataframe[col].dtypes != \"O\"]\n",
    "    cat_but_car = [col for col in dataframe.columns if dataframe[col].nunique() > car_th and dataframe[col].dtypes == \"O\"]\n",
    "    cat_cols = cat_cols + num_but_cat\n",
    "    cat_cols = [col for col in cat_cols if col not in cat_but_car]\n",
    "\n",
    "    num_cols = [col for col in dataframe.columns if dataframe[col].dtypes != \"O\"]\n",
    "    num_cols = [col for col in num_cols if col not in num_but_cat]\n",
    "\n",
    "    print(f\"Observations: {dataframe.shape[0]}\")\n",
    "    print(f\"Variables: {dataframe.shape[1]}\")\n",
    "    print(f'cat_cols: {len(cat_cols)}')\n",
    "    print(f'num_cols: {len(num_cols)}')\n",
    "    print(f'cat_but_car: {len(cat_but_car)}')\n",
    "    print(f'num_but_cat: {len(num_but_cat)}')\n",
    "\n",
    "    return cat_cols, num_cols, cat_but_car\n",
    "\n",
    "\n",
    "cat_cols, num_cols, cat_but_car = grab_col_names(dataset)\n",
    "print(f\"\\n{colored('Numerical Columns:','blue', attrs=['reverse'])} {num_cols}\\n\\n\\n{colored('Categorical Columns:','magenta', attrs=['reverse'])} {cat_cols}\\n\\n\\n\"\n",
    "        f\"{colored('Cardinal Columns:','cyan', attrs=['reverse'])}{cat_but_car}\\n\")"
   ]
  },
  {
   "cell_type": "code",
   "execution_count": 11,
   "metadata": {},
   "outputs": [
    {
     "data": {
      "image/png": "[encoded data removed]",
      "text/plain": [
       "<Figure size 864x720 with 25 Axes>"
      ]
     },
     "metadata": {
      "needs_background": "light"
     },
     "output_type": "display_data"
    }
   ],
   "source": [
    "# Visualization for numerical values\n",
    "dataset.hist(figsize=(12, 10))\n",
    "plt.tight_layout()\n",
    "plt.show()"
   ]
  },
  {
   "cell_type": "markdown",
   "metadata": {},
   "source": [
    "According to the histogram for each numerical labels, we can intuitively see the distribution of data. For example, the age distribution is between 20 and 80 years old, with 40-45 years old being the most. The height of people up to about 160 cm is the most, and the weight is generally distributed between 50kg and 80kg.For hemoglobin content, blood pressure, blood pressure and other medical data, you can see that the basic distribution is in a specific interval."
   ]
  },
  {
   "cell_type": "markdown",
   "metadata": {},
   "source": [
    "After that,visualization for categorical values separately."
   ]
  },
  {
   "cell_type": "code",
   "execution_count": 12,
   "metadata": {},
   "outputs": [
    {
     "data": {
      "image/png": "[encoded data removed]",
      "text/plain": [
       "<Figure size 432x288 with 1 Axes>"
      ]
     },
     "metadata": {
      "needs_background": "light"
     },
     "output_type": "display_data"
    }
   ],
   "source": [
    "# Countplot for categorical features\n",
    "sns.countplot(x='sex', data=dataset)\n",
    "plt.show()"
   ]
  },
  {
   "cell_type": "code",
   "execution_count": 14,
   "metadata": {},
   "outputs": [
    {
     "data": {
      "text/plain": [
       "Male      127566\n",
       "Female    112434\n",
       "Name: sex, dtype: int64"
      ]
     },
     "execution_count": 14,
     "metadata": {},
     "output_type": "execute_result"
    }
   ],
   "source": [
    "dataset['sex'].value_counts()"
   ]
  },
  {
   "cell_type": "markdown",
   "metadata": {},
   "source": [
    "From the gender statistics chart, there are a little more male than female."
   ]
  },
  {
   "cell_type": "code",
   "execution_count": 13,
   "metadata": {},
   "outputs": [
    {
     "data": {
      "image/png": "[encoded data removed]",
      "text/plain": [
       "<Figure size 432x288 with 1 Axes>"
      ]
     },
     "metadata": {
      "needs_background": "light"
     },
     "output_type": "display_data"
    }
   ],
   "source": [
    "# Countplot for categorical features\n",
    "sns.countplot(x='SMK_stat_type_cd', data=dataset)\n",
    "plt.show()"
   ]
  },
  {
   "cell_type": "code",
   "execution_count": 15,
   "metadata": {},
   "outputs": [
    {
     "data": {
      "text/plain": [
       "1    145649\n",
       "3     51821\n",
       "2     42530\n",
       "Name: SMK_stat_type_cd, dtype: int64"
      ]
     },
     "execution_count": 15,
     "metadata": {},
     "output_type": "execute_result"
    }
   ],
   "source": [
    "dataset['SMK_stat_type_cd'].value_counts()"
   ]
  },
  {
   "cell_type": "markdown",
   "metadata": {},
   "source": [
    "Looking for Smoking state[ 1(never), 2(used to smoke but quit), 3(still smoke)],we can see non-smokers accounted for the majority, and regular smokers were slightly more numerous than occasional smokers"
   ]
  },
  {
   "cell_type": "code",
   "execution_count": 16,
   "metadata": {},
   "outputs": [
    {
     "data": {
      "image/png": "[encoded data removed]",
      "text/plain": [
       "<Figure size 432x288 with 1 Axes>"
      ]
     },
     "metadata": {
      "needs_background": "light"
     },
     "output_type": "display_data"
    }
   ],
   "source": [
    "# Countplot for categorical features\n",
    "sns.countplot(x='DRK_YN', data=dataset)\n",
    "plt.show()"
   ]
  },
  {
   "cell_type": "code",
   "execution_count": 17,
   "metadata": {},
   "outputs": [
    {
     "data": {
      "text/plain": [
       "N    120340\n",
       "Y    119660\n",
       "Name: DRK_YN, dtype: int64"
      ]
     },
     "execution_count": 17,
     "metadata": {},
     "output_type": "execute_result"
    }
   ],
   "source": [
    "dataset['DRK_YN'].value_counts()"
   ]
  },
  {
   "cell_type": "markdown",
   "metadata": {},
   "source": [
    "As follow drinking state plot, those who drink and those who don't drink are pretty much the same."
   ]
  },
  {
   "cell_type": "code",
   "execution_count": 18,
   "metadata": {},
   "outputs": [
    {
     "data": {
      "text/html": [
       "<div>\n",
       "<style scoped>\n",
       "    .dataframe tbody tr th:only-of-type {\n",
       "        vertical-align: middle;\n",
       "    }\n",
       "\n",
       "    .dataframe tbody tr th {\n",
       "        vertical-align: top;\n",
       "    }\n",
       "\n",
       "    .dataframe thead th {\n",
       "        text-align: right;\n",
       "    }\n",
       "</style>\n",
       "<table border=\"1\" class=\"dataframe\">\n",
       "  <thead>\n",
       "    <tr style=\"text-align: right;\">\n",
       "      <th></th>\n",
       "      <th>sex</th>\n",
       "      <th>Ratio</th>\n",
       "    </tr>\n",
       "  </thead>\n",
       "  <tbody>\n",
       "    <tr>\n",
       "      <th>Male</th>\n",
       "      <td>127566</td>\n",
       "      <td>53.153</td>\n",
       "    </tr>\n",
       "    <tr>\n",
       "      <th>Female</th>\n",
       "      <td>112434</td>\n",
       "      <td>46.847</td>\n",
       "    </tr>\n",
       "  </tbody>\n",
       "</table>\n",
       "</div>"
      ],
      "text/plain": [
       "           sex  Ratio\n",
       "Male    127566 53.153\n",
       "Female  112434 46.847"
      ]
     },
     "metadata": {},
     "output_type": "display_data"
    },
    {
     "name": "stdout",
     "output_type": "stream",
     "text": [
      "\n"
     ]
    },
    {
     "data": {
      "text/html": [
       "<div>\n",
       "<style scoped>\n",
       "    .dataframe tbody tr th:only-of-type {\n",
       "        vertical-align: middle;\n",
       "    }\n",
       "\n",
       "    .dataframe tbody tr th {\n",
       "        vertical-align: top;\n",
       "    }\n",
       "\n",
       "    .dataframe thead th {\n",
       "        text-align: right;\n",
       "    }\n",
       "</style>\n",
       "<table border=\"1\" class=\"dataframe\">\n",
       "  <thead>\n",
       "    <tr style=\"text-align: right;\">\n",
       "      <th></th>\n",
       "      <th>DRK_YN</th>\n",
       "      <th>Ratio</th>\n",
       "    </tr>\n",
       "  </thead>\n",
       "  <tbody>\n",
       "    <tr>\n",
       "      <th>N</th>\n",
       "      <td>120340</td>\n",
       "      <td>50.142</td>\n",
       "    </tr>\n",
       "    <tr>\n",
       "      <th>Y</th>\n",
       "      <td>119660</td>\n",
       "      <td>49.858</td>\n",
       "    </tr>\n",
       "  </tbody>\n",
       "</table>\n",
       "</div>"
      ],
      "text/plain": [
       "   DRK_YN  Ratio\n",
       "N  120340 50.142\n",
       "Y  119660 49.858"
      ]
     },
     "metadata": {},
     "output_type": "display_data"
    },
    {
     "name": "stdout",
     "output_type": "stream",
     "text": [
      "\n"
     ]
    },
    {
     "data": {
      "text/html": [
       "<div>\n",
       "<style scoped>\n",
       "    .dataframe tbody tr th:only-of-type {\n",
       "        vertical-align: middle;\n",
       "    }\n",
       "\n",
       "    .dataframe tbody tr th {\n",
       "        vertical-align: top;\n",
       "    }\n",
       "\n",
       "    .dataframe thead th {\n",
       "        text-align: right;\n",
       "    }\n",
       "</style>\n",
       "<table border=\"1\" class=\"dataframe\">\n",
       "  <thead>\n",
       "    <tr style=\"text-align: right;\">\n",
       "      <th></th>\n",
       "      <th>hear_left</th>\n",
       "      <th>Ratio</th>\n",
       "    </tr>\n",
       "  </thead>\n",
       "  <tbody>\n",
       "    <tr>\n",
       "      <th>1</th>\n",
       "      <td>232502</td>\n",
       "      <td>96.876</td>\n",
       "    </tr>\n",
       "    <tr>\n",
       "      <th>2</th>\n",
       "      <td>7498</td>\n",
       "      <td>3.124</td>\n",
       "    </tr>\n",
       "  </tbody>\n",
       "</table>\n",
       "</div>"
      ],
      "text/plain": [
       "   hear_left  Ratio\n",
       "1     232502 96.876\n",
       "2       7498  3.124"
      ]
     },
     "metadata": {},
     "output_type": "display_data"
    },
    {
     "name": "stdout",
     "output_type": "stream",
     "text": [
      "\n"
     ]
    },
    {
     "data": {
      "text/html": [
       "<div>\n",
       "<style scoped>\n",
       "    .dataframe tbody tr th:only-of-type {\n",
       "        vertical-align: middle;\n",
       "    }\n",
       "\n",
       "    .dataframe tbody tr th {\n",
       "        vertical-align: top;\n",
       "    }\n",
       "\n",
       "    .dataframe thead th {\n",
       "        text-align: right;\n",
       "    }\n",
       "</style>\n",
       "<table border=\"1\" class=\"dataframe\">\n",
       "  <thead>\n",
       "    <tr style=\"text-align: right;\">\n",
       "      <th></th>\n",
       "      <th>hear_right</th>\n",
       "      <th>Ratio</th>\n",
       "    </tr>\n",
       "  </thead>\n",
       "  <tbody>\n",
       "    <tr>\n",
       "      <th>1</th>\n",
       "      <td>232752</td>\n",
       "      <td>96.980</td>\n",
       "    </tr>\n",
       "    <tr>\n",
       "      <th>2</th>\n",
       "      <td>7248</td>\n",
       "      <td>3.020</td>\n",
       "    </tr>\n",
       "  </tbody>\n",
       "</table>\n",
       "</div>"
      ],
      "text/plain": [
       "   hear_right  Ratio\n",
       "1      232752 96.980\n",
       "2        7248  3.020"
      ]
     },
     "metadata": {},
     "output_type": "display_data"
    },
    {
     "name": "stdout",
     "output_type": "stream",
     "text": [
      "\n"
     ]
    },
    {
     "data": {
      "text/html": [
       "<div>\n",
       "<style scoped>\n",
       "    .dataframe tbody tr th:only-of-type {\n",
       "        vertical-align: middle;\n",
       "    }\n",
       "\n",
       "    .dataframe tbody tr th {\n",
       "        vertical-align: top;\n",
       "    }\n",
       "\n",
       "    .dataframe thead th {\n",
       "        text-align: right;\n",
       "    }\n",
       "</style>\n",
       "<table border=\"1\" class=\"dataframe\">\n",
       "  <thead>\n",
       "    <tr style=\"text-align: right;\">\n",
       "      <th></th>\n",
       "      <th>urine_protein</th>\n",
       "      <th>Ratio</th>\n",
       "    </tr>\n",
       "  </thead>\n",
       "  <tbody>\n",
       "    <tr>\n",
       "      <th>1</th>\n",
       "      <td>226299</td>\n",
       "      <td>94.291</td>\n",
       "    </tr>\n",
       "    <tr>\n",
       "      <th>2</th>\n",
       "      <td>7534</td>\n",
       "      <td>3.139</td>\n",
       "    </tr>\n",
       "    <tr>\n",
       "      <th>3</th>\n",
       "      <td>4045</td>\n",
       "      <td>1.685</td>\n",
       "    </tr>\n",
       "    <tr>\n",
       "      <th>4</th>\n",
       "      <td>1539</td>\n",
       "      <td>0.641</td>\n",
       "    </tr>\n",
       "    <tr>\n",
       "      <th>5</th>\n",
       "      <td>465</td>\n",
       "      <td>0.194</td>\n",
       "    </tr>\n",
       "    <tr>\n",
       "      <th>6</th>\n",
       "      <td>118</td>\n",
       "      <td>0.049</td>\n",
       "    </tr>\n",
       "  </tbody>\n",
       "</table>\n",
       "</div>"
      ],
      "text/plain": [
       "   urine_protein  Ratio\n",
       "1         226299 94.291\n",
       "2           7534  3.139\n",
       "3           4045  1.685\n",
       "4           1539  0.641\n",
       "5            465  0.194\n",
       "6            118  0.049"
      ]
     },
     "metadata": {},
     "output_type": "display_data"
    },
    {
     "name": "stdout",
     "output_type": "stream",
     "text": [
      "\n"
     ]
    },
    {
     "data": {
      "text/html": [
       "<div>\n",
       "<style scoped>\n",
       "    .dataframe tbody tr th:only-of-type {\n",
       "        vertical-align: middle;\n",
       "    }\n",
       "\n",
       "    .dataframe tbody tr th {\n",
       "        vertical-align: top;\n",
       "    }\n",
       "\n",
       "    .dataframe thead th {\n",
       "        text-align: right;\n",
       "    }\n",
       "</style>\n",
       "<table border=\"1\" class=\"dataframe\">\n",
       "  <thead>\n",
       "    <tr style=\"text-align: right;\">\n",
       "      <th></th>\n",
       "      <th>SMK_stat_type_cd</th>\n",
       "      <th>Ratio</th>\n",
       "    </tr>\n",
       "  </thead>\n",
       "  <tbody>\n",
       "    <tr>\n",
       "      <th>1</th>\n",
       "      <td>145649</td>\n",
       "      <td>60.687</td>\n",
       "    </tr>\n",
       "    <tr>\n",
       "      <th>3</th>\n",
       "      <td>51821</td>\n",
       "      <td>21.592</td>\n",
       "    </tr>\n",
       "    <tr>\n",
       "      <th>2</th>\n",
       "      <td>42530</td>\n",
       "      <td>17.721</td>\n",
       "    </tr>\n",
       "  </tbody>\n",
       "</table>\n",
       "</div>"
      ],
      "text/plain": [
       "   SMK_stat_type_cd  Ratio\n",
       "1            145649 60.687\n",
       "3             51821 21.592\n",
       "2             42530 17.721"
      ]
     },
     "metadata": {},
     "output_type": "display_data"
    },
    {
     "name": "stdout",
     "output_type": "stream",
     "text": [
      "\n"
     ]
    }
   ],
   "source": [
    "# analysis of categorical variables\n",
    "def cat_summary(dataframe, col_name, plot=False):\n",
    "    display(pd.DataFrame({col_name: dataframe[col_name].value_counts(),\n",
    "                        \"Ratio\": 100 * dataframe[col_name].value_counts() / len(dataframe)}))\n",
    "\n",
    "    if plot:\n",
    "        sns.countplot(x=dataframe[col_name], data=dataframe)\n",
    "        plt.show()\n",
    "\n",
    "\n",
    "for col in cat_cols:\n",
    "    cat_summary(dataset, col)\n",
    "    print(\"\")"
   ]
  },
  {
   "cell_type": "markdown",
   "metadata": {},
   "source": [
    "### map categorical variables to numerical variables"
   ]
  },
  {
   "cell_type": "markdown",
   "metadata": {},
   "source": [
    "Then we want to observe the correlation between the labels through heatmap especially observe these labels have a strong or weak correlation with whether they drink alcohol column. First of all need to map categorical variables to numerical variables."
   ]
  },
  {
   "cell_type": "markdown",
   "metadata": {},
   "source": [
    "I first creat the dictionary for mapping, converted the object variable of yes and no into number 0 and 1, and then used the `replace` function to replace the original data with the transformed data. In this way we have a data set with the same data format."
   ]
  },
  {
   "cell_type": "code",
   "execution_count": 19,
   "metadata": {},
   "outputs": [],
   "source": [
    "# Create a dictionary for mapping\n",
    "drink_mapping = {'Y': 1, 'N': 0}\n",
    "\n",
    "# Use replace() method to apply the mapping\n",
    "dataset['DRK_YN'] = dataset['DRK_YN'].replace(drink_mapping)"
   ]
  },
  {
   "cell_type": "code",
   "execution_count": 20,
   "metadata": {},
   "outputs": [],
   "source": [
    "# Create a dictionary for_mapping \n",
    "sex_mapping = {'Male': 1.0, 'Female': 0.0}\n",
    "# Use replace() method to apply the mapping\n",
    "dataset['sex'] = dataset['sex'].replace(sex_mapping)"
   ]
  },
  {
   "cell_type": "code",
   "execution_count": 21,
   "metadata": {},
   "outputs": [
    {
     "data": {
      "image/png": "[encoded data removed]",
      "text/plain": [
       "<Figure size 1440x576 with 2 Axes>"
      ]
     },
     "metadata": {
      "needs_background": "light"
     },
     "output_type": "display_data"
    }
   ],
   "source": [
    "plt.figure(figsize=(20, 8))\n",
    "heatmap = sns.heatmap(dataset.corr(), vmin=-1, vmax=1, annot=True, cmap='BrBG')\n",
    "heatmap.set_title('Correlation Heatmap', fontdict={'fontsize':18}, pad=12);\n",
    "# save heatmap as .png file\n",
    "# dpi - sets the resolution of the saved image in dots/inches\n",
    "# bbox_inches - when set to 'tight' - does not allow the labels to be cropped\n",
    "plt.savefig('heatmap.png', dpi=300, bbox_inches='tight')"
   ]
  },
  {
   "cell_type": "markdown",
   "metadata": {},
   "source": [
    "Read it: the larger the number and darker the color the higher the correlation between the two variables. So follow the heatmap, we can see SDP & DBP, tot_chole & LDL_chole has higher relation."
   ]
  },
  {
   "cell_type": "markdown",
   "metadata": {},
   "source": [
    "It can be observed that sex and height has both the strongest correlation with drink type(0.37) compare to other labels, while smoke state also have a strong correlation with drinking type(0.35)."
   ]
  },
  {
   "cell_type": "markdown",
   "metadata": {},
   "source": [
    "##  logistic regression model "
   ]
  },
  {
   "cell_type": "markdown",
   "metadata": {},
   "source": [
    "Then, fit logistic regression model to predict and first step for Split the dataset."
   ]
  },
  {
   "cell_type": "markdown",
   "metadata": {},
   "source": [
    "### Split the dataset "
   ]
  },
  {
   "cell_type": "code",
   "execution_count": 22,
   "metadata": {},
   "outputs": [],
   "source": [
    "# Separate features and target variable\n",
    "features = dataset[['sex', 'age', 'height', 'weight', 'waistline', 'sight_left', 'sight_right', \n",
    "                 'hear_left', 'hear_right', 'SBP', 'LDL_chole', 'triglyceride', 'hemoglobin', \n",
    "                 'urine_protein', 'serum_creatinine', 'SGOT_AST', 'SGOT_ALT', 'gamma_GTP', \n",
    "                 'SMK_stat_type_cd']]\n",
    "target = dataset['DRK_YN']\n"
   ]
  },
  {
   "cell_type": "code",
   "execution_count": 23,
   "metadata": {},
   "outputs": [],
   "source": [
    "# Split the dataset into training and testing sets (80% training, 20% testing)\n",
    "X_train_l, X_test_l, y_train_l, Y_test = train_test_split(features, target, test_size=0.2, random_state=42)"
   ]
  },
  {
   "cell_type": "markdown",
   "metadata": {},
   "source": [
    "### Use logistic model"
   ]
  },
  {
   "cell_type": "markdown",
   "metadata": {},
   "source": [
    "Then, fit logistic regression model to predict and first step for Split the dataset."
   ]
  },
  {
   "cell_type": "code",
   "execution_count": 24,
   "metadata": {},
   "outputs": [],
   "source": [
    "# Initialize the logistic regression model\n",
    "model = LogisticRegression()"
   ]
  },
  {
   "cell_type": "code",
   "execution_count": 25,
   "metadata": {},
   "outputs": [
    {
     "data": {
      "text/plain": [
       "LogisticRegression()"
      ]
     },
     "execution_count": 25,
     "metadata": {},
     "output_type": "execute_result"
    }
   ],
   "source": [
    "# Train the model using the training data\n",
    "model.fit(X_train_l, y_train_l)"
   ]
  },
  {
   "cell_type": "code",
   "execution_count": 26,
   "metadata": {},
   "outputs": [],
   "source": [
    "# Make predictions on the test data\n",
    "predictions = model.predict(X_test_l)"
   ]
  },
  {
   "cell_type": "code",
   "execution_count": null,
   "metadata": {},
   "outputs": [],
   "source": [
    "# Create a comparison DataFrame\n",
    "comparison_df = pd.DataFrame({'Actual': Y_test, 'Predicted': predictions})\n",
    "comparison_df.head()"
   ]
  },
  {
   "cell_type": "markdown",
   "metadata": {},
   "source": [
    "Comparing the predicted numbers with the real numbers, we can see that the results are not exactly the same."
   ]
  },
  {
   "cell_type": "code",
   "execution_count": 28,
   "metadata": {},
   "outputs": [
    {
     "data": {
      "text/plain": [
       "<Figure size 720x432 with 0 Axes>"
      ]
     },
     "metadata": {},
     "output_type": "display_data"
    },
    {
     "data": {
      "image/png": "[encoded data removed]",
      "text/plain": [
       "<Figure size 864x432 with 1 Axes>"
      ]
     },
     "metadata": {
      "needs_background": "light"
     },
     "output_type": "display_data"
    }
   ],
   "source": [
    "# Plot a bar chart to compare actual vs. predicted values\n",
    "plt.figure(figsize=(10, 6))\n",
    "comparison_df[:20].plot(kind='bar', figsize=(12, 6))\n",
    "plt.xlabel('Sample Index')\n",
    "plt.ylabel('Drink(Y or N)')\n",
    "plt.title('Comparison of Actual vs. Predicted Values')\n",
    "plt.show()"
   ]
  },
  {
   "cell_type": "markdown",
   "metadata": {},
   "source": [
    "Then plot a bar chart to compare actual and predicted values,it can be seen that at most 70 percent of the results are consistent."
   ]
  },
  {
   "cell_type": "markdown",
   "metadata": {},
   "source": [
    "## KNN Model"
   ]
  },
  {
   "cell_type": "markdown",
   "metadata": {},
   "source": [
    "### Split the dataset "
   ]
  },
  {
   "cell_type": "code",
   "execution_count": 29,
   "metadata": {},
   "outputs": [],
   "source": [
    "X = dataset.drop([\"DRK_YN\"], axis=1)\n",
    "\n",
    "y = dataset[\"DRK_YN\"]"
   ]
  },
  {
   "cell_type": "code",
   "execution_count": 30,
   "metadata": {},
   "outputs": [],
   "source": [
    "# splitting into training and test datasets\n",
    "\n",
    "from sklearn.model_selection import train_test_split\n",
    "X_train, X_test, y_train, y_test = train_test_split(X, y, test_size = 0.1, random_state = 0)"
   ]
  },
  {
   "cell_type": "code",
   "execution_count": 31,
   "metadata": {},
   "outputs": [
    {
     "data": {
      "text/plain": [
       "((216000, 23), (24000, 23))"
      ]
     },
     "execution_count": 31,
     "metadata": {},
     "output_type": "execute_result"
    }
   ],
   "source": [
    "# shape of X_train and X_test\n",
    "\n",
    "X_train.shape, X_test.shape"
   ]
  },
  {
   "cell_type": "code",
   "execution_count": 32,
   "metadata": {},
   "outputs": [
    {
     "data": {
      "text/plain": [
       "sex                 float64\n",
       "age                   int64\n",
       "height                int64\n",
       "weight                int64\n",
       "waistline           float64\n",
       "sight_left          float64\n",
       "sight_right         float64\n",
       "hear_left             int64\n",
       "hear_right            int64\n",
       "SBP                   int64\n",
       "DBP                   int64\n",
       "BLDS                  int64\n",
       "tot_chole             int64\n",
       "HDL_chole             int64\n",
       "LDL_chole             int64\n",
       "triglyceride          int64\n",
       "hemoglobin          float64\n",
       "urine_protein         int64\n",
       "serum_creatinine    float64\n",
       "SGOT_AST              int64\n",
       "SGOT_ALT              int64\n",
       "gamma_GTP             int64\n",
       "SMK_stat_type_cd      int64\n",
       "dtype: object"
      ]
     },
     "execution_count": 32,
     "metadata": {},
     "output_type": "execute_result"
    }
   ],
   "source": [
    "# datatypes of X_train\n",
    "\n",
    "X_train.dtypes"
   ]
  },
  {
   "cell_type": "code",
   "execution_count": 33,
   "metadata": {},
   "outputs": [
    {
     "name": "stdout",
     "output_type": "stream",
     "text": [
      "-----Missing Values-----\n"
     ]
    },
    {
     "data": {
      "text/plain": [
       "sex                 0\n",
       "age                 0\n",
       "height              0\n",
       "weight              0\n",
       "waistline           0\n",
       "sight_left          0\n",
       "sight_right         0\n",
       "hear_left           0\n",
       "hear_right          0\n",
       "SBP                 0\n",
       "DBP                 0\n",
       "BLDS                0\n",
       "tot_chole           0\n",
       "HDL_chole           0\n",
       "LDL_chole           0\n",
       "triglyceride        0\n",
       "hemoglobin          0\n",
       "urine_protein       0\n",
       "serum_creatinine    0\n",
       "SGOT_AST            0\n",
       "SGOT_ALT            0\n",
       "gamma_GTP           0\n",
       "SMK_stat_type_cd    0\n",
       "dtype: int64"
      ]
     },
     "execution_count": 33,
     "metadata": {},
     "output_type": "execute_result"
    }
   ],
   "source": [
    "# check for missing values (training dataset)\n",
    "print(\"-----Missing Values-----\")\n",
    "X_train.isnull().sum()"
   ]
  },
  {
   "cell_type": "code",
   "execution_count": 34,
   "metadata": {},
   "outputs": [
    {
     "name": "stdout",
     "output_type": "stream",
     "text": [
      "-----Missing Values-----\n"
     ]
    },
    {
     "data": {
      "text/plain": [
       "sex                 0\n",
       "age                 0\n",
       "height              0\n",
       "weight              0\n",
       "waistline           0\n",
       "sight_left          0\n",
       "sight_right         0\n",
       "hear_left           0\n",
       "hear_right          0\n",
       "SBP                 0\n",
       "DBP                 0\n",
       "BLDS                0\n",
       "tot_chole           0\n",
       "HDL_chole           0\n",
       "LDL_chole           0\n",
       "triglyceride        0\n",
       "hemoglobin          0\n",
       "urine_protein       0\n",
       "serum_creatinine    0\n",
       "SGOT_AST            0\n",
       "SGOT_ALT            0\n",
       "gamma_GTP           0\n",
       "SMK_stat_type_cd    0\n",
       "dtype: int64"
      ]
     },
     "execution_count": 34,
     "metadata": {},
     "output_type": "execute_result"
    }
   ],
   "source": [
    "# check for missing values (testing dataset)\n",
    "print(\"-----Missing Values-----\")\n",
    "X_test.isnull().sum()"
   ]
  },
  {
   "cell_type": "code",
   "execution_count": 35,
   "metadata": {},
   "outputs": [],
   "source": [
    "# percentage of missing values\n",
    "\n",
    "for col in X_train.columns:\n",
    "    if X_train[col].isnull().mean()>0:\n",
    "        print(col, round(X_train[col].isnull().mean(),4))"
   ]
  },
  {
   "cell_type": "code",
   "execution_count": 36,
   "metadata": {},
   "outputs": [
    {
     "data": {
      "text/html": [
       "<div>\n",
       "<style scoped>\n",
       "    .dataframe tbody tr th:only-of-type {\n",
       "        vertical-align: middle;\n",
       "    }\n",
       "\n",
       "    .dataframe tbody tr th {\n",
       "        vertical-align: top;\n",
       "    }\n",
       "\n",
       "    .dataframe thead th {\n",
       "        text-align: right;\n",
       "    }\n",
       "</style>\n",
       "<table border=\"1\" class=\"dataframe\">\n",
       "  <thead>\n",
       "    <tr style=\"text-align: right;\">\n",
       "      <th></th>\n",
       "      <th>sex</th>\n",
       "      <th>age</th>\n",
       "      <th>height</th>\n",
       "      <th>weight</th>\n",
       "      <th>waistline</th>\n",
       "      <th>sight_left</th>\n",
       "      <th>sight_right</th>\n",
       "      <th>hear_left</th>\n",
       "      <th>hear_right</th>\n",
       "      <th>SBP</th>\n",
       "      <th>DBP</th>\n",
       "      <th>BLDS</th>\n",
       "      <th>tot_chole</th>\n",
       "      <th>HDL_chole</th>\n",
       "      <th>LDL_chole</th>\n",
       "      <th>triglyceride</th>\n",
       "      <th>hemoglobin</th>\n",
       "      <th>urine_protein</th>\n",
       "      <th>serum_creatinine</th>\n",
       "      <th>SGOT_AST</th>\n",
       "      <th>SGOT_ALT</th>\n",
       "      <th>gamma_GTP</th>\n",
       "      <th>SMK_stat_type_cd</th>\n",
       "    </tr>\n",
       "  </thead>\n",
       "  <tbody>\n",
       "    <tr>\n",
       "      <th>27421</th>\n",
       "      <td>0.000</td>\n",
       "      <td>25</td>\n",
       "      <td>155</td>\n",
       "      <td>60</td>\n",
       "      <td>69.000</td>\n",
       "      <td>0.600</td>\n",
       "      <td>0.900</td>\n",
       "      <td>1</td>\n",
       "      <td>1</td>\n",
       "      <td>110</td>\n",
       "      <td>70</td>\n",
       "      <td>91</td>\n",
       "      <td>152</td>\n",
       "      <td>62</td>\n",
       "      <td>78</td>\n",
       "      <td>62</td>\n",
       "      <td>14.400</td>\n",
       "      <td>1</td>\n",
       "      <td>0.900</td>\n",
       "      <td>18</td>\n",
       "      <td>17</td>\n",
       "      <td>18</td>\n",
       "      <td>1</td>\n",
       "    </tr>\n",
       "    <tr>\n",
       "      <th>116139</th>\n",
       "      <td>1.000</td>\n",
       "      <td>60</td>\n",
       "      <td>160</td>\n",
       "      <td>55</td>\n",
       "      <td>79.000</td>\n",
       "      <td>1.200</td>\n",
       "      <td>0.900</td>\n",
       "      <td>1</td>\n",
       "      <td>1</td>\n",
       "      <td>130</td>\n",
       "      <td>85</td>\n",
       "      <td>113</td>\n",
       "      <td>204</td>\n",
       "      <td>43</td>\n",
       "      <td>138</td>\n",
       "      <td>112</td>\n",
       "      <td>14.000</td>\n",
       "      <td>1</td>\n",
       "      <td>1.000</td>\n",
       "      <td>30</td>\n",
       "      <td>24</td>\n",
       "      <td>24</td>\n",
       "      <td>2</td>\n",
       "    </tr>\n",
       "    <tr>\n",
       "      <th>113151</th>\n",
       "      <td>1.000</td>\n",
       "      <td>30</td>\n",
       "      <td>180</td>\n",
       "      <td>85</td>\n",
       "      <td>65.000</td>\n",
       "      <td>1.500</td>\n",
       "      <td>0.900</td>\n",
       "      <td>1</td>\n",
       "      <td>1</td>\n",
       "      <td>130</td>\n",
       "      <td>80</td>\n",
       "      <td>142</td>\n",
       "      <td>219</td>\n",
       "      <td>52</td>\n",
       "      <td>111</td>\n",
       "      <td>280</td>\n",
       "      <td>15.600</td>\n",
       "      <td>1</td>\n",
       "      <td>1.000</td>\n",
       "      <td>25</td>\n",
       "      <td>28</td>\n",
       "      <td>92</td>\n",
       "      <td>1</td>\n",
       "    </tr>\n",
       "    <tr>\n",
       "      <th>11045</th>\n",
       "      <td>1.000</td>\n",
       "      <td>45</td>\n",
       "      <td>180</td>\n",
       "      <td>85</td>\n",
       "      <td>91.000</td>\n",
       "      <td>1.200</td>\n",
       "      <td>1.200</td>\n",
       "      <td>1</td>\n",
       "      <td>1</td>\n",
       "      <td>140</td>\n",
       "      <td>84</td>\n",
       "      <td>97</td>\n",
       "      <td>185</td>\n",
       "      <td>34</td>\n",
       "      <td>118</td>\n",
       "      <td>162</td>\n",
       "      <td>17.100</td>\n",
       "      <td>1</td>\n",
       "      <td>1.100</td>\n",
       "      <td>26</td>\n",
       "      <td>39</td>\n",
       "      <td>43</td>\n",
       "      <td>3</td>\n",
       "    </tr>\n",
       "    <tr>\n",
       "      <th>112708</th>\n",
       "      <td>1.000</td>\n",
       "      <td>40</td>\n",
       "      <td>170</td>\n",
       "      <td>70</td>\n",
       "      <td>84.900</td>\n",
       "      <td>1.200</td>\n",
       "      <td>1.500</td>\n",
       "      <td>1</td>\n",
       "      <td>1</td>\n",
       "      <td>135</td>\n",
       "      <td>83</td>\n",
       "      <td>92</td>\n",
       "      <td>244</td>\n",
       "      <td>48</td>\n",
       "      <td>159</td>\n",
       "      <td>183</td>\n",
       "      <td>14.000</td>\n",
       "      <td>1</td>\n",
       "      <td>0.900</td>\n",
       "      <td>21</td>\n",
       "      <td>21</td>\n",
       "      <td>126</td>\n",
       "      <td>2</td>\n",
       "    </tr>\n",
       "  </tbody>\n",
       "</table>\n",
       "</div>"
      ],
      "text/plain": [
       "         sex  age  height  weight  waistline  sight_left  sight_right  hear_left  hear_right  SBP  DBP  BLDS  tot_chole  HDL_chole  LDL_chole  triglyceride  hemoglobin  urine_protein  serum_creatinine  SGOT_AST  SGOT_ALT  gamma_GTP  SMK_stat_type_cd\n",
       "27421  0.000   25     155      60     69.000       0.600        0.900          1           1  110   70    91        152         62         78            62      14.400              1             0.900        18        17         18                 1\n",
       "116139 1.000   60     160      55     79.000       1.200        0.900          1           1  130   85   113        204         43        138           112      14.000              1             1.000        30        24         24                 2\n",
       "113151 1.000   30     180      85     65.000       1.500        0.900          1           1  130   80   142        219         52        111           280      15.600              1             1.000        25        28         92                 1\n",
       "11045  1.000   45     180      85     91.000       1.200        1.200          1           1  140   84    97        185         34        118           162      17.100              1             1.100        26        39         43                 3\n",
       "112708 1.000   40     170      70     84.900       1.200        1.500          1           1  135   83    92        244         48        159           183      14.000              1             0.900        21        21        126                 2"
      ]
     },
     "execution_count": 36,
     "metadata": {},
     "output_type": "execute_result"
    }
   ],
   "source": [
    "X_train.head()"
   ]
  },
  {
   "cell_type": "code",
   "execution_count": 37,
   "metadata": {},
   "outputs": [
    {
     "data": {
      "text/html": [
       "<div>\n",
       "<style scoped>\n",
       "    .dataframe tbody tr th:only-of-type {\n",
       "        vertical-align: middle;\n",
       "    }\n",
       "\n",
       "    .dataframe tbody tr th {\n",
       "        vertical-align: top;\n",
       "    }\n",
       "\n",
       "    .dataframe thead th {\n",
       "        text-align: right;\n",
       "    }\n",
       "</style>\n",
       "<table border=\"1\" class=\"dataframe\">\n",
       "  <thead>\n",
       "    <tr style=\"text-align: right;\">\n",
       "      <th></th>\n",
       "      <th>sex</th>\n",
       "      <th>age</th>\n",
       "      <th>height</th>\n",
       "      <th>weight</th>\n",
       "      <th>waistline</th>\n",
       "      <th>sight_left</th>\n",
       "      <th>sight_right</th>\n",
       "      <th>hear_left</th>\n",
       "      <th>hear_right</th>\n",
       "      <th>SBP</th>\n",
       "      <th>DBP</th>\n",
       "      <th>BLDS</th>\n",
       "      <th>tot_chole</th>\n",
       "      <th>HDL_chole</th>\n",
       "      <th>LDL_chole</th>\n",
       "      <th>triglyceride</th>\n",
       "      <th>hemoglobin</th>\n",
       "      <th>urine_protein</th>\n",
       "      <th>serum_creatinine</th>\n",
       "      <th>SGOT_AST</th>\n",
       "      <th>SGOT_ALT</th>\n",
       "      <th>gamma_GTP</th>\n",
       "      <th>SMK_stat_type_cd</th>\n",
       "    </tr>\n",
       "  </thead>\n",
       "  <tbody>\n",
       "    <tr>\n",
       "      <th>45155</th>\n",
       "      <td>1.000</td>\n",
       "      <td>30</td>\n",
       "      <td>170</td>\n",
       "      <td>75</td>\n",
       "      <td>87.000</td>\n",
       "      <td>0.900</td>\n",
       "      <td>1.000</td>\n",
       "      <td>1</td>\n",
       "      <td>1</td>\n",
       "      <td>111</td>\n",
       "      <td>78</td>\n",
       "      <td>100</td>\n",
       "      <td>240</td>\n",
       "      <td>68</td>\n",
       "      <td>149</td>\n",
       "      <td>115</td>\n",
       "      <td>16.600</td>\n",
       "      <td>1</td>\n",
       "      <td>1.100</td>\n",
       "      <td>28</td>\n",
       "      <td>70</td>\n",
       "      <td>33</td>\n",
       "      <td>1</td>\n",
       "    </tr>\n",
       "    <tr>\n",
       "      <th>238446</th>\n",
       "      <td>0.000</td>\n",
       "      <td>70</td>\n",
       "      <td>150</td>\n",
       "      <td>70</td>\n",
       "      <td>97.000</td>\n",
       "      <td>0.500</td>\n",
       "      <td>0.700</td>\n",
       "      <td>1</td>\n",
       "      <td>1</td>\n",
       "      <td>118</td>\n",
       "      <td>64</td>\n",
       "      <td>93</td>\n",
       "      <td>232</td>\n",
       "      <td>42</td>\n",
       "      <td>149</td>\n",
       "      <td>204</td>\n",
       "      <td>14.400</td>\n",
       "      <td>1</td>\n",
       "      <td>0.700</td>\n",
       "      <td>28</td>\n",
       "      <td>24</td>\n",
       "      <td>27</td>\n",
       "      <td>1</td>\n",
       "    </tr>\n",
       "    <tr>\n",
       "      <th>121013</th>\n",
       "      <td>0.000</td>\n",
       "      <td>75</td>\n",
       "      <td>145</td>\n",
       "      <td>50</td>\n",
       "      <td>84.000</td>\n",
       "      <td>0.400</td>\n",
       "      <td>0.300</td>\n",
       "      <td>1</td>\n",
       "      <td>1</td>\n",
       "      <td>142</td>\n",
       "      <td>82</td>\n",
       "      <td>121</td>\n",
       "      <td>202</td>\n",
       "      <td>46</td>\n",
       "      <td>89</td>\n",
       "      <td>331</td>\n",
       "      <td>14.900</td>\n",
       "      <td>1</td>\n",
       "      <td>0.900</td>\n",
       "      <td>28</td>\n",
       "      <td>33</td>\n",
       "      <td>37</td>\n",
       "      <td>1</td>\n",
       "    </tr>\n",
       "    <tr>\n",
       "      <th>176784</th>\n",
       "      <td>1.000</td>\n",
       "      <td>60</td>\n",
       "      <td>160</td>\n",
       "      <td>65</td>\n",
       "      <td>80.600</td>\n",
       "      <td>0.700</td>\n",
       "      <td>0.600</td>\n",
       "      <td>1</td>\n",
       "      <td>1</td>\n",
       "      <td>130</td>\n",
       "      <td>80</td>\n",
       "      <td>94</td>\n",
       "      <td>236</td>\n",
       "      <td>35</td>\n",
       "      <td>131</td>\n",
       "      <td>347</td>\n",
       "      <td>15.300</td>\n",
       "      <td>1</td>\n",
       "      <td>0.900</td>\n",
       "      <td>17</td>\n",
       "      <td>14</td>\n",
       "      <td>33</td>\n",
       "      <td>3</td>\n",
       "    </tr>\n",
       "    <tr>\n",
       "      <th>31780</th>\n",
       "      <td>1.000</td>\n",
       "      <td>60</td>\n",
       "      <td>170</td>\n",
       "      <td>75</td>\n",
       "      <td>90.000</td>\n",
       "      <td>9.900</td>\n",
       "      <td>0.800</td>\n",
       "      <td>1</td>\n",
       "      <td>1</td>\n",
       "      <td>143</td>\n",
       "      <td>82</td>\n",
       "      <td>127</td>\n",
       "      <td>177</td>\n",
       "      <td>29</td>\n",
       "      <td>126</td>\n",
       "      <td>111</td>\n",
       "      <td>14.900</td>\n",
       "      <td>1</td>\n",
       "      <td>0.900</td>\n",
       "      <td>19</td>\n",
       "      <td>15</td>\n",
       "      <td>39</td>\n",
       "      <td>3</td>\n",
       "    </tr>\n",
       "  </tbody>\n",
       "</table>\n",
       "</div>"
      ],
      "text/plain": [
       "         sex  age  height  weight  waistline  sight_left  sight_right  hear_left  hear_right  SBP  DBP  BLDS  tot_chole  HDL_chole  LDL_chole  triglyceride  hemoglobin  urine_protein  serum_creatinine  SGOT_AST  SGOT_ALT  gamma_GTP  SMK_stat_type_cd\n",
       "45155  1.000   30     170      75     87.000       0.900        1.000          1           1  111   78   100        240         68        149           115      16.600              1             1.100        28        70         33                 1\n",
       "238446 0.000   70     150      70     97.000       0.500        0.700          1           1  118   64    93        232         42        149           204      14.400              1             0.700        28        24         27                 1\n",
       "121013 0.000   75     145      50     84.000       0.400        0.300          1           1  142   82   121        202         46         89           331      14.900              1             0.900        28        33         37                 1\n",
       "176784 1.000   60     160      65     80.600       0.700        0.600          1           1  130   80    94        236         35        131           347      15.300              1             0.900        17        14         33                 3\n",
       "31780  1.000   60     170      75     90.000       9.900        0.800          1           1  143   82   127        177         29        126           111      14.900              1             0.900        19        15         39                 3"
      ]
     },
     "execution_count": 37,
     "metadata": {},
     "output_type": "execute_result"
    }
   ],
   "source": [
    "X_test.head()"
   ]
  },
  {
   "cell_type": "code",
   "execution_count": 38,
   "metadata": {},
   "outputs": [],
   "source": [
    "cols = X_train.columns"
   ]
  },
  {
   "cell_type": "markdown",
   "metadata": {},
   "source": [
    "### Use KNN Model"
   ]
  },
  {
   "cell_type": "markdown",
   "metadata": {},
   "source": [
    "k-NN is a simple, supervised, non-parametric, non-linear model that finds the k-nearest unseen data points surrounding and assigns the class (in this case, drinker or non-drinker) based on classes of k-neighborhoods having the most number of data points. We use the Minkowski distance metric."
   ]
  },
  {
   "cell_type": "code",
   "execution_count": 39,
   "metadata": {},
   "outputs": [],
   "source": [
    "from sklearn.preprocessing import StandardScaler\n",
    "from sklearn.model_selection import cross_val_score\n",
    "from sklearn.neighbors import KNeighborsClassifier"
   ]
  },
  {
   "cell_type": "code",
   "execution_count": 40,
   "metadata": {},
   "outputs": [],
   "source": [
    "scaler = StandardScaler()\n",
    "X_train = scaler.fit_transform(X_train)\n",
    "X_test = scaler.transform(X_test)"
   ]
  },
  {
   "cell_type": "code",
   "execution_count": 41,
   "metadata": {},
   "outputs": [],
   "source": [
    "knn = KNeighborsClassifier(n_neighbors=3)\n",
    "basemodel = knn.fit(X_train, y_train)"
   ]
  },
  {
   "cell_type": "code",
   "execution_count": 48,
   "metadata": {},
   "outputs": [
    {
     "data": {
      "text/plain": [
       "array([0, 0, 0, ..., 0, 0, 0], dtype=int64)"
      ]
     },
     "execution_count": 48,
     "metadata": {},
     "output_type": "execute_result"
    }
   ],
   "source": [
    "y_pred = knn.predict(X_test)\n",
    "y_pred"
   ]
  },
  {
   "cell_type": "markdown",
   "metadata": {},
   "source": [
    "## Measure Model Accuracy"
   ]
  },
  {
   "cell_type": "markdown",
   "metadata": {},
   "source": [
    "Performance Metrics was used to measure the accuracy of the model include `accuracy_score` and `recall_score`, `precision_score`  and `f1_score`"
   ]
  },
  {
   "cell_type": "markdown",
   "metadata": {},
   "source": [
    "Performance metrics are crucial for measuring the accuracy of machine learning models, as they provide quantifiable and interpretable measures of the model's performance on a particular task. It can allow different models or algorithms to be compared and aid in decision-making processes."
   ]
  },
  {
   "cell_type": "markdown",
   "metadata": {},
   "source": [
    "The mathematical definition of using these functions and source from [Students’ Performance Analyses Using Machine\n",
    "Learning Algorithms in WEKA](https://iopscience.iop.org/article/10.1088/1757-899X/1031/1/012061?gclid=CjwKCAiA3aeqBhBzEiwAxFiOBlU7XH4Jq2mTb-WR-ikgeyw67oZU0SyJnmEHnyd4-h5vwFl-B5mGDRoCGcIQAvD_BwE)"
   ]
  },
  {
   "cell_type": "markdown",
   "metadata": {},
   "source": [
    "For Accuracy:  \n",
    "    Accuracy is the number of all correct classifications divided by the total numbers of cases :Accuracy= (TP+TN)/(TP+TN+FP+FN)"
   ]
  },
  {
   "cell_type": "markdown",
   "metadata": {},
   "source": [
    "Recall:  \n",
    "    also know as Rate of true positives : TP Rate = TP/TP+FN"
   ]
  },
  {
   "cell_type": "markdown",
   "metadata": {},
   "source": [
    "Precision:  \n",
    "    Precision is the number of correct positive classifications divided by the total number of positive\n",
    "classifications :P= TP/(TP+FP)"
   ]
  },
  {
   "cell_type": "markdown",
   "metadata": {},
   "source": [
    "F-measure:  \n",
    "    F-measure is a harmonic mean of precision (𝑃) and recall (𝑅).:Fm= 2PR/(P+R)"
   ]
  },
  {
   "cell_type": "markdown",
   "metadata": {},
   "source": [
    "true positive (TP) i.e. correct positive prediction,  \n",
    "true negative (TN) i.e. correct negative prediction,  \n",
    "false positive (FP) i.e. incorrect positive prediction  \n",
    "false negative (FN) i.e. incorrect negative prediction"
   ]
  },
  {
   "cell_type": "markdown",
   "metadata": {},
   "source": [
    "### For Logistic regression model"
   ]
  },
  {
   "cell_type": "code",
   "execution_count": 42,
   "metadata": {},
   "outputs": [
    {
     "name": "stdout",
     "output_type": "stream",
     "text": [
      "Accuracy: 71.46%\n",
      "precision: 72.02%\n",
      "Recall: 0.697\n",
      "F1 score: 0.708283\n"
     ]
    }
   ],
   "source": [
    "## Import the library and functions you need\n",
    "from sklearn.metrics import f1_score, accuracy_score, precision_score, recall_score\n",
    "## Accuracy\n",
    "accuracy = accuracy_score(Y_test,predictions)\n",
    "print(f'Accuracy: {accuracy * 100:.2f}%')\n",
    "## Precision\n",
    "precision = precision_score(Y_test,predictions)\n",
    "print(f'precision: { precision * 100:.2f}%')\n",
    "## Recall\n",
    "recall = recall_score(Y_test,predictions,average='binary')\n",
    "print('Recall: %.3f' % recall)\n",
    "## F1 Score\n",
    "F_1 = f1_score(Y_test,predictions,average='binary')\n",
    "print('F1 score: %f' % F_1)"
   ]
  },
  {
   "cell_type": "markdown",
   "metadata": {},
   "source": [
    "### For KNN Model"
   ]
  },
  {
   "cell_type": "code",
   "execution_count": 49,
   "metadata": {},
   "outputs": [
    {
     "name": "stdout",
     "output_type": "stream",
     "text": [
      "Accuracy: 0.6706\n",
      "Recall: 0.6645\n",
      "Precision: 0.6795\n",
      "F1: 0.6719\n"
     ]
    }
   ],
   "source": [
    "print(f\"Accuracy: {round(accuracy_score(y_pred, y_test), 4)}\")\n",
    "print(f\"Recall: {round(recall_score(y_pred, y_test), 4)}\")\n",
    "print(f\"Precision: {round(precision_score(y_pred, y_test), 4)}\")\n",
    "print(f\"F1: {round(f1_score(y_pred, y_test), 4)}\")"
   ]
  },
  {
   "cell_type": "markdown",
   "metadata": {},
   "source": [
    "### Compare and discuss"
   ]
  },
  {
   "cell_type": "markdown",
   "metadata": {},
   "source": [
    "From the results of Performance metrics, it can be concluded that the prediction results of logistic regression model are better, and the values of `accuracy_score`, `recall_score`, `precision_score` and `f1_score` of logistic regression are higher.  "
   ]
  },
  {
   "cell_type": "markdown",
   "metadata": {},
   "source": [
    " This is further analyzed:"
   ]
  },
  {
   "cell_type": "markdown",
   "metadata": {},
   "source": [
    "(1) Why is the logistic regression model more accurate than KNN ?"
   ]
  },
  {
   "cell_type": "markdown",
   "metadata": {},
   "source": [
    "First, consider variables on datasat relationship is linear or non-linear. Logistic regression is a linear classifier, which means that it assumes a linear relationship between features and target variables. It can perform well if the relationship in the data is indeed linear. KNN, on the other hand, is a nonlinear algorithm that can capture complex, nonlinear relationships in the data. If the true relationship is nonlinear, KNN may be superior to logistic regression."
   ]
  },
  {
   "cell_type": "markdown",
   "metadata": {},
   "source": [
    "Second, the size of the prediction data can be considered. KNN is sensitive to the size of the data because it needs to calculate the distance between the data points. For large data sets, the calculation accuracy of KNN may not be as good as logistic regression."
   ]
  },
  {
   "cell_type": "markdown",
   "metadata": {},
   "source": [
    "Third, it is possible to consider the feature correlation. KNN may be more sensitive than logistic regression when one wishes to understand the impact of each characteristic on the forecast. It would treat all features equally, including irrelevant or noisy features. So correct feature selection and preprocessing are the key to KNN."
   ]
  },
  {
   "cell_type": "markdown",
   "metadata": {},
   "source": [
    "(2) Discuss the advantages and disadvantages of the two models."
   ]
  },
  {
   "cell_type": "markdown",
   "metadata": {},
   "source": [
    "For logistic regression, it will be more efficient when dealing with large data sets and is well suited to binary classification problems, especially where the output variable has two classes. But the disadvantage is that it is easy to underfit when the data relationship is nonlinear. In contrast to classification models such as decision trees, it is not very effective in capturing complex relationships in the data.  "
   ]
  },
  {
   "cell_type": "markdown",
   "metadata": {},
   "source": [
    "For KNN, it can effectively capture complex patterns in data and adapt well to changes in data sets. For nonlinear data relationships, it is more effective than logistic regression. However, the computational cost may be high, especially for large data sets, because it needs to calculate the distance between query points and all training points. And has high sensitivity to irrelevant feature values, which is prone to interference."
   ]
  },
  {
   "cell_type": "markdown",
   "metadata": {},
   "source": [
    "## Improve model accuracy"
   ]
  },
  {
   "cell_type": "markdown",
   "metadata": {},
   "source": [
    "Use  Cross-validation (CV)  to find the best one for KNN"
   ]
  },
  {
   "cell_type": "code",
   "execution_count": null,
   "metadata": {},
   "outputs": [],
   "source": [
    "k_values = [i for i in range (1,8)]\n",
    "scores = []\n",
    "\n",
    "scaler = StandardScaler()\n",
    "X = scaler.fit_transform(X)\n",
    "\n",
    "for k in k_values:\n",
    "    knn = KNeighborsClassifier(n_neighbors=k)\n",
    "    score = cross_val_score(knn, X, y, cv=5)\n",
    "    scores.append(np.mean(score))"
   ]
  },
  {
   "cell_type": "code",
   "execution_count": null,
   "metadata": {},
   "outputs": [],
   "source": [
    "sns.lineplot(x = k_values, y = scores, marker = 'o')\n",
    "plt.xlabel(\"K Values\")\n",
    "plt.ylabel(\"Accuracy Score\")"
   ]
  },
  {
   "cell_type": "code",
   "execution_count": null,
   "metadata": {},
   "outputs": [],
   "source": [
    "best_index = np.argmax(scores)\n",
    "best_k = k_values[best_index]\n",
    "\n",
    "knn = KNeighborsClassifier(n_neighbors=best_k)\n",
    "knn.fit(X_train, y_train)"
   ]
  },
  {
   "cell_type": "code",
   "execution_count": null,
   "metadata": {},
   "outputs": [],
   "source": [
    "y_pred = knn.predict(X_test)\n",
    "\n",
    "accuracy = accuracy_score(y_test, y_pred)\n",
    "precision = precision_score(y_test, y_pred)\n",
    "recall = recall_score(y_test, y_pred)\n",
    "\n",
    "print(\"Accuracy:\", accuracy)\n",
    "print(\"Precision:\", precision)\n",
    "print(\"Recall:\", recall)"
   ]
  },
  {
   "cell_type": "code",
   "execution_count": null,
   "metadata": {},
   "outputs": [],
   "source": [
    "from sklearn.metrics import confusion_matrix\n",
    "\n",
    "cm = confusion_matrix(y_test, y_pred)\n",
    "print('Confusion matrix\\n\\n', cm)\n",
    "print('\\nTrue Positives(TP) = ', cm[0,0])\n",
    "print('\\nTrue Negatives(TN) = ', cm[1,1])\n",
    "print('\\nFalse Positives(FP) = ', cm[0,1])\n",
    "print('\\nFalse Negatives(FN) = ', cm[1,0])"
   ]
  },
  {
   "cell_type": "code",
   "execution_count": null,
   "metadata": {},
   "outputs": [],
   "source": [
    "plt.figure(figsize=(6,4))\n",
    "\n",
    "cm_matrix = pd.DataFrame(data=cm, columns=['Actual Positive:1', 'Actual Negative:0'], \n",
    "                                 index=['Predict Positive:1', 'Predict Negative:0'])\n",
    "\n",
    "sns.heatmap(cm_matrix, annot=True, fmt='d', cmap='YlGnBu')"
   ]
  },
  {
   "cell_type": "code",
   "execution_count": null,
   "metadata": {},
   "outputs": [],
   "source": [
    "from sklearn.metrics import classification_report\n",
    "print(classification_report(y_test, y_pred))"
   ]
  },
  {
   "cell_type": "markdown",
   "metadata": {},
   "source": [
    "Use L1 regularization to improve logistic regression, more detail can find [sklearn.linear_model.LogisticRegression](https://scikit-learn.org/0.16/modules/generated/sklearn.linear_model.LogisticRegression.html)"
   ]
  },
  {
   "cell_type": "markdown",
   "metadata": {},
   "source": [
    "After doing some research (reading books on machine learning and online tutorial), I found that L1 regularization is helpful to improve the accuracy of logistic regression model. Please refer to my reflection for the specific theoretical part."
   ]
  },
  {
   "cell_type": "markdown",
   "metadata": {},
   "source": [
    "But it runs very slowly and can take several minutes. I mentioned results for accuracy increase from 71.46% to 71.76% and recall score increase from 0.697 to 0.703. From the results, the accuracy of the model has been improved."
   ]
  },
  {
   "cell_type": "code",
   "execution_count": 43,
   "metadata": {},
   "outputs": [],
   "source": [
    "from sklearn.linear_model import LogisticRegression\n",
    "\n",
    "# Create a logistic regression model with L1 regularization (Lasso)\n",
    "model_l1 = LogisticRegression(penalty='l1', solver='liblinear', C=1.0) # C is the inverse of regularization strength"
   ]
  },
  {
   "cell_type": "code",
   "execution_count": 44,
   "metadata": {},
   "outputs": [
    {
     "data": {
      "text/plain": [
       "LogisticRegression(penalty='l1', solver='liblinear')"
      ]
     },
     "execution_count": 44,
     "metadata": {},
     "output_type": "execute_result"
    }
   ],
   "source": [
    "# Train the model\n",
    "model_l1.fit(X_train_l, y_train_l)"
   ]
  },
  {
   "cell_type": "code",
   "execution_count": 45,
   "metadata": {},
   "outputs": [],
   "source": [
    "# Make predictions\n",
    "predictions_l1 = model_l1.predict(X_test_l)"
   ]
  },
  {
   "cell_type": "code",
   "execution_count": 46,
   "metadata": {},
   "outputs": [
    {
     "data": {
      "text/plain": [
       "0.7175208333333334"
      ]
     },
     "execution_count": 46,
     "metadata": {},
     "output_type": "execute_result"
    }
   ],
   "source": [
    "# Evaluate the model (calculate accuracy, etc.)\n",
    "accuracy_l1 = model_l1.score(X_test_l, Y_test)\n",
    "accuracy_l1"
   ]
  },
  {
   "cell_type": "code",
   "execution_count": 47,
   "metadata": {},
   "outputs": [
    {
     "name": "stdout",
     "output_type": "stream",
     "text": [
      "Recall: 0.703\n"
     ]
    }
   ],
   "source": [
    "from sklearn.metrics import recall_score\n",
    "recall = recall_score(Y_test, predictions_l1, average='binary')\n",
    "print('Recall: %.3f' % recall)"
   ]
  },
  {
   "cell_type": "markdown",
   "metadata": {},
   "source": [
    "## Conclusion"
   ]
  },
  {
   "cell_type": "markdown",
   "metadata": {},
   "source": [
    "Overall, we fit and contrast different models in categorically predicting whether a person drinks according to body signals data for logistic regression model and KNN model."
   ]
  },
  {
   "cell_type": "markdown",
   "metadata": {},
   "source": [
    "The performance metrics do much better for logistic regression in each case. In terms of finding true positives, we can see that logistic regression certainly performs better. This means that someone who drinks correctly predicts 69.7% of the positive observations, while the k-NN model correctly predicts 67.16% of the positive observations."
   ]
  }
 ],
 "metadata": {
  "kernelspec": {
   "display_name": "Python 3",
   "language": "python",
   "name": "python3"
  },
  "language_info": {
   "codemirror_mode": {
    "name": "ipython",
    "version": 3
   },
   "file_extension": ".py",
   "mimetype": "text/x-python",
   "name": "python",
   "nbconvert_exporter": "python",
   "pygments_lexer": "ipython3",
   "version": "3.8.5"
  },
  "toc": {
   "base_numbering": 1,
   "nav_menu": {},
   "number_sections": true,
   "sideBar": true,
   "skip_h1_title": false,
   "title_cell": "Table of Contents",
   "title_sidebar": "Contents",
   "toc_cell": true,
   "toc_position": {},
   "toc_section_display": true,
   "toc_window_display": true
  }
 },
 "nbformat": 4,
 "nbformat_minor": 4
}
